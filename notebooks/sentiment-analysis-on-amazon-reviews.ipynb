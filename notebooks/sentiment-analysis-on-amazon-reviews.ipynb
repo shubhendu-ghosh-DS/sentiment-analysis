{
 "cells": [
  {
   "cell_type": "markdown",
   "id": "3e95e36c",
   "metadata": {
    "execution": {
     "iopub.execute_input": "2022-03-30T20:11:59.834705Z",
     "iopub.status.busy": "2022-03-30T20:11:59.834057Z",
     "iopub.status.idle": "2022-03-30T20:11:59.841661Z",
     "shell.execute_reply": "2022-03-30T20:11:59.840519Z",
     "shell.execute_reply.started": "2022-03-30T20:11:59.834667Z"
    },
    "papermill": {
     "duration": 0.063413,
     "end_time": "2022-05-18T05:57:41.050251",
     "exception": false,
     "start_time": "2022-05-18T05:57:40.986838",
     "status": "completed"
    },
    "tags": []
   },
   "source": [
    "<span style = \"color:#0c5204; font-weight:700; font-size: 30px;\">Sentiment Analysis </span>\n",
    "### Sentiment analysis is the process of identifying feelings and emotions expressed in words, through Arificial Intelligence. Sentiment analysis in business empowers companies to spot negative or positive sentiments about their products or service with precision and take necessary steps to address those areas."
   ]
  },
  {
   "cell_type": "markdown",
   "id": "302b616a",
   "metadata": {
    "papermill": {
     "duration": 0.063686,
     "end_time": "2022-05-18T05:57:41.175545",
     "exception": false,
     "start_time": "2022-05-18T05:57:41.111859",
     "status": "completed"
    },
    "tags": []
   },
   "source": [
    "![](https://d33wubrfki0l68.cloudfront.net/9e1b2a906ae6b01cfe2d5d237e1e51f5d41864e3/2a5f9/static/348bb1d70089176ca2f61ea402094382/50bf7/main.png)"
   ]
  },
  {
   "cell_type": "markdown",
   "id": "19dee993",
   "metadata": {
    "papermill": {
     "duration": 0.063217,
     "end_time": "2022-05-18T05:57:41.299414",
     "exception": false,
     "start_time": "2022-05-18T05:57:41.236197",
     "status": "completed"
    },
    "tags": []
   },
   "source": [
    "# <span style=\"color:#0c5204; font-weight:700; font-size:30px\">Business Problem </span>\n",
    "    \n",
    "### This dataset contains product reviews and metadata from Amazon for the product with the most comments in the electronics category.  \n",
    "### The aim of this notebook is classifying the positive and negative reviews of the customers and building a supervised learning model to polarize large amounts of reviews. \n"
   ]
  },
  {
   "cell_type": "markdown",
   "id": "acfb64f6",
   "metadata": {
    "papermill": {
     "duration": 0.062125,
     "end_time": "2022-05-18T05:57:41.428140",
     "exception": false,
     "start_time": "2022-05-18T05:57:41.366015",
     "status": "completed"
    },
    "tags": []
   },
   "source": [
    "# <span style=\"color:#0c5204; font-weight:700; font-size: 30px;\">Importing Libraries and Data</span>"
   ]
  },
  {
   "cell_type": "code",
   "execution_count": 1,
   "id": "c60b22d1",
   "metadata": {
    "execution": {
     "iopub.execute_input": "2022-05-18T05:57:41.555090Z",
     "iopub.status.busy": "2022-05-18T05:57:41.553853Z",
     "iopub.status.idle": "2022-05-18T05:57:54.605081Z",
     "shell.execute_reply": "2022-05-18T05:57:54.605704Z",
     "shell.execute_reply.started": "2022-05-18T05:46:06.792747Z"
    },
    "papermill": {
     "duration": 13.116606,
     "end_time": "2022-05-18T05:57:54.606048",
     "exception": false,
     "start_time": "2022-05-18T05:57:41.489442",
     "status": "completed"
    },
    "tags": []
   },
   "outputs": [
    {
     "name": "stdout",
     "output_type": "stream",
     "text": [
      "/kaggle/input/amazon-reviews/amazon_reviews.csv\n",
      "Requirement already satisfied: nltk in /opt/conda/lib/python3.7/site-packages (3.2.4)\r\n",
      "Requirement already satisfied: six in /opt/conda/lib/python3.7/site-packages (from nltk) (1.16.0)\r\n",
      "\u001b[33mWARNING: Running pip as the 'root' user can result in broken permissions and conflicting behaviour with the system package manager. It is recommended to use a virtual environment instead: https://pip.pypa.io/warnings/venv\u001b[0m\r\n"
     ]
    },
    {
     "name": "stderr",
     "output_type": "stream",
     "text": [
      "/opt/conda/lib/python3.7/site-packages/nltk/twitter/__init__.py:20: UserWarning: The twython library has not been installed. Some functionality from the twitter package will not be available.\n",
      "  warnings.warn(\"The twython library has not been installed. \"\n"
     ]
    }
   ],
   "source": [
    "import os\n",
    "for dirname, _, filenames in os.walk('/kaggle/input'):\n",
    "    for filename in filenames:\n",
    "        print(os.path.join(dirname, filename))\n",
    "!pip install nltk        \n",
    "from warnings import filterwarnings\n",
    "import matplotlib.pyplot as plt\n",
    "import numpy as np\n",
    "import pandas as pd\n",
    "import matplotlib.pyplot as plt\n",
    "import seaborn as sns\n",
    "from PIL import Image\n",
    "from nltk.corpus import stopwords\n",
    "from nltk.sentiment import SentimentIntensityAnalyzer\n",
    "from sklearn.model_selection import cross_val_score, GridSearchCV, cross_validate\n",
    "from sklearn.preprocessing import LabelEncoder\n",
    "from textblob import Word, TextBlob\n",
    "from wordcloud import WordCloud\n"
   ]
  },
  {
   "cell_type": "code",
   "execution_count": 2,
   "id": "c14682b3",
   "metadata": {
    "execution": {
     "iopub.execute_input": "2022-05-18T05:57:54.739714Z",
     "iopub.status.busy": "2022-05-18T05:57:54.738928Z",
     "iopub.status.idle": "2022-05-18T05:57:54.837100Z",
     "shell.execute_reply": "2022-05-18T05:57:54.836390Z",
     "shell.execute_reply.started": "2022-05-18T04:19:02.349502Z"
    },
    "papermill": {
     "duration": 0.16625,
     "end_time": "2022-05-18T05:57:54.837252",
     "exception": false,
     "start_time": "2022-05-18T05:57:54.671002",
     "status": "completed"
    },
    "tags": []
   },
   "outputs": [
    {
     "data": {
      "text/html": [
       "<div>\n",
       "<style scoped>\n",
       "    .dataframe tbody tr th:only-of-type {\n",
       "        vertical-align: middle;\n",
       "    }\n",
       "\n",
       "    .dataframe tbody tr th {\n",
       "        vertical-align: top;\n",
       "    }\n",
       "\n",
       "    .dataframe thead th {\n",
       "        text-align: right;\n",
       "    }\n",
       "</style>\n",
       "<table border=\"1\" class=\"dataframe\">\n",
       "  <thead>\n",
       "    <tr style=\"text-align: right;\">\n",
       "      <th></th>\n",
       "      <th>reviewerID</th>\n",
       "      <th>asin</th>\n",
       "      <th>reviewerName</th>\n",
       "      <th>helpful</th>\n",
       "      <th>reviewText</th>\n",
       "      <th>overall</th>\n",
       "      <th>summary</th>\n",
       "      <th>unixReviewTime</th>\n",
       "      <th>reviewTime</th>\n",
       "      <th>day_diff</th>\n",
       "      <th>helpful_yes</th>\n",
       "      <th>total_vote</th>\n",
       "    </tr>\n",
       "  </thead>\n",
       "  <tbody>\n",
       "    <tr>\n",
       "      <th>0</th>\n",
       "      <td>A3SBTW3WS4IQSN</td>\n",
       "      <td>B007WTAJTO</td>\n",
       "      <td>NaN</td>\n",
       "      <td>[0, 0]</td>\n",
       "      <td>No issues.</td>\n",
       "      <td>4.0</td>\n",
       "      <td>Four Stars</td>\n",
       "      <td>1406073600</td>\n",
       "      <td>2014-07-23</td>\n",
       "      <td>138</td>\n",
       "      <td>0</td>\n",
       "      <td>0</td>\n",
       "    </tr>\n",
       "    <tr>\n",
       "      <th>1</th>\n",
       "      <td>A18K1ODH1I2MVB</td>\n",
       "      <td>B007WTAJTO</td>\n",
       "      <td>0mie</td>\n",
       "      <td>[0, 0]</td>\n",
       "      <td>Purchased this for my device, it worked as adv...</td>\n",
       "      <td>5.0</td>\n",
       "      <td>MOAR SPACE!!!</td>\n",
       "      <td>1382659200</td>\n",
       "      <td>2013-10-25</td>\n",
       "      <td>409</td>\n",
       "      <td>0</td>\n",
       "      <td>0</td>\n",
       "    </tr>\n",
       "    <tr>\n",
       "      <th>2</th>\n",
       "      <td>A2FII3I2MBMUIA</td>\n",
       "      <td>B007WTAJTO</td>\n",
       "      <td>1K3</td>\n",
       "      <td>[0, 0]</td>\n",
       "      <td>it works as expected. I should have sprung for...</td>\n",
       "      <td>4.0</td>\n",
       "      <td>nothing to really say....</td>\n",
       "      <td>1356220800</td>\n",
       "      <td>2012-12-23</td>\n",
       "      <td>715</td>\n",
       "      <td>0</td>\n",
       "      <td>0</td>\n",
       "    </tr>\n",
       "    <tr>\n",
       "      <th>3</th>\n",
       "      <td>A3H99DFEG68SR</td>\n",
       "      <td>B007WTAJTO</td>\n",
       "      <td>1m2</td>\n",
       "      <td>[0, 0]</td>\n",
       "      <td>This think has worked out great.Had a diff. br...</td>\n",
       "      <td>5.0</td>\n",
       "      <td>Great buy at this price!!!  *** UPDATE</td>\n",
       "      <td>1384992000</td>\n",
       "      <td>2013-11-21</td>\n",
       "      <td>382</td>\n",
       "      <td>0</td>\n",
       "      <td>0</td>\n",
       "    </tr>\n",
       "    <tr>\n",
       "      <th>4</th>\n",
       "      <td>A375ZM4U047O79</td>\n",
       "      <td>B007WTAJTO</td>\n",
       "      <td>2&amp;amp;1/2Men</td>\n",
       "      <td>[0, 0]</td>\n",
       "      <td>Bought it with Retail Packaging, arrived legit...</td>\n",
       "      <td>5.0</td>\n",
       "      <td>best deal around</td>\n",
       "      <td>1373673600</td>\n",
       "      <td>2013-07-13</td>\n",
       "      <td>513</td>\n",
       "      <td>0</td>\n",
       "      <td>0</td>\n",
       "    </tr>\n",
       "  </tbody>\n",
       "</table>\n",
       "</div>"
      ],
      "text/plain": [
       "       reviewerID        asin  reviewerName helpful  \\\n",
       "0  A3SBTW3WS4IQSN  B007WTAJTO           NaN  [0, 0]   \n",
       "1  A18K1ODH1I2MVB  B007WTAJTO          0mie  [0, 0]   \n",
       "2  A2FII3I2MBMUIA  B007WTAJTO           1K3  [0, 0]   \n",
       "3   A3H99DFEG68SR  B007WTAJTO           1m2  [0, 0]   \n",
       "4  A375ZM4U047O79  B007WTAJTO  2&amp;1/2Men  [0, 0]   \n",
       "\n",
       "                                          reviewText  overall  \\\n",
       "0                                         No issues.      4.0   \n",
       "1  Purchased this for my device, it worked as adv...      5.0   \n",
       "2  it works as expected. I should have sprung for...      4.0   \n",
       "3  This think has worked out great.Had a diff. br...      5.0   \n",
       "4  Bought it with Retail Packaging, arrived legit...      5.0   \n",
       "\n",
       "                                  summary  unixReviewTime  reviewTime  \\\n",
       "0                              Four Stars      1406073600  2014-07-23   \n",
       "1                           MOAR SPACE!!!      1382659200  2013-10-25   \n",
       "2               nothing to really say....      1356220800  2012-12-23   \n",
       "3  Great buy at this price!!!  *** UPDATE      1384992000  2013-11-21   \n",
       "4                        best deal around      1373673600  2013-07-13   \n",
       "\n",
       "   day_diff  helpful_yes  total_vote  \n",
       "0       138            0           0  \n",
       "1       409            0           0  \n",
       "2       715            0           0  \n",
       "3       382            0           0  \n",
       "4       513            0           0  "
      ]
     },
     "execution_count": 2,
     "metadata": {},
     "output_type": "execute_result"
    }
   ],
   "source": [
    "df = pd.read_csv(\"../input/amazon-reviews/amazon_reviews.csv\")\n",
    "df.head()"
   ]
  },
  {
   "cell_type": "code",
   "execution_count": 3,
   "id": "9fd559ca",
   "metadata": {
    "execution": {
     "iopub.execute_input": "2022-05-18T05:57:54.978651Z",
     "iopub.status.busy": "2022-05-18T05:57:54.977954Z",
     "iopub.status.idle": "2022-05-18T05:57:54.980149Z",
     "shell.execute_reply": "2022-05-18T05:57:54.980829Z",
     "shell.execute_reply.started": "2022-05-18T04:19:06.540452Z"
    },
    "papermill": {
     "duration": 0.079278,
     "end_time": "2022-05-18T05:57:54.981021",
     "exception": false,
     "start_time": "2022-05-18T05:57:54.901743",
     "status": "completed"
    },
    "tags": []
   },
   "outputs": [],
   "source": [
    "data = df[['overall', 'reviewText']]"
   ]
  },
  {
   "cell_type": "code",
   "execution_count": 4,
   "id": "31b4ba1a",
   "metadata": {
    "execution": {
     "iopub.execute_input": "2022-05-18T05:57:55.114711Z",
     "iopub.status.busy": "2022-05-18T05:57:55.113986Z",
     "iopub.status.idle": "2022-05-18T05:57:55.125460Z",
     "shell.execute_reply": "2022-05-18T05:57:55.124753Z",
     "shell.execute_reply.started": "2022-05-18T04:19:10.614403Z"
    },
    "papermill": {
     "duration": 0.077873,
     "end_time": "2022-05-18T05:57:55.125612",
     "exception": false,
     "start_time": "2022-05-18T05:57:55.047739",
     "status": "completed"
    },
    "tags": []
   },
   "outputs": [
    {
     "data": {
      "text/html": [
       "<div>\n",
       "<style scoped>\n",
       "    .dataframe tbody tr th:only-of-type {\n",
       "        vertical-align: middle;\n",
       "    }\n",
       "\n",
       "    .dataframe tbody tr th {\n",
       "        vertical-align: top;\n",
       "    }\n",
       "\n",
       "    .dataframe thead th {\n",
       "        text-align: right;\n",
       "    }\n",
       "</style>\n",
       "<table border=\"1\" class=\"dataframe\">\n",
       "  <thead>\n",
       "    <tr style=\"text-align: right;\">\n",
       "      <th></th>\n",
       "      <th>overall</th>\n",
       "      <th>reviewText</th>\n",
       "    </tr>\n",
       "  </thead>\n",
       "  <tbody>\n",
       "    <tr>\n",
       "      <th>0</th>\n",
       "      <td>4.0</td>\n",
       "      <td>No issues.</td>\n",
       "    </tr>\n",
       "    <tr>\n",
       "      <th>1</th>\n",
       "      <td>5.0</td>\n",
       "      <td>Purchased this for my device, it worked as adv...</td>\n",
       "    </tr>\n",
       "    <tr>\n",
       "      <th>2</th>\n",
       "      <td>4.0</td>\n",
       "      <td>it works as expected. I should have sprung for...</td>\n",
       "    </tr>\n",
       "    <tr>\n",
       "      <th>3</th>\n",
       "      <td>5.0</td>\n",
       "      <td>This think has worked out great.Had a diff. br...</td>\n",
       "    </tr>\n",
       "    <tr>\n",
       "      <th>4</th>\n",
       "      <td>5.0</td>\n",
       "      <td>Bought it with Retail Packaging, arrived legit...</td>\n",
       "    </tr>\n",
       "  </tbody>\n",
       "</table>\n",
       "</div>"
      ],
      "text/plain": [
       "   overall                                         reviewText\n",
       "0      4.0                                         No issues.\n",
       "1      5.0  Purchased this for my device, it worked as adv...\n",
       "2      4.0  it works as expected. I should have sprung for...\n",
       "3      5.0  This think has worked out great.Had a diff. br...\n",
       "4      5.0  Bought it with Retail Packaging, arrived legit..."
      ]
     },
     "execution_count": 4,
     "metadata": {},
     "output_type": "execute_result"
    }
   ],
   "source": [
    "data.head()"
   ]
  },
  {
   "cell_type": "markdown",
   "id": "a590610b",
   "metadata": {
    "papermill": {
     "duration": 0.063355,
     "end_time": "2022-05-18T05:57:55.254189",
     "exception": false,
     "start_time": "2022-05-18T05:57:55.190834",
     "status": "completed"
    },
    "tags": []
   },
   "source": [
    "# <span style=\"color:#0c5204; font-weight:700; font-size: 30px;\"> Text Preprocessing</span>"
   ]
  },
  {
   "cell_type": "markdown",
   "id": "b18312e6",
   "metadata": {
    "papermill": {
     "duration": 0.063429,
     "end_time": "2022-05-18T05:57:55.381914",
     "exception": false,
     "start_time": "2022-05-18T05:57:55.318485",
     "status": "completed"
    },
    "tags": []
   },
   "source": [
    "### This is the most important step in this project. These reviews are just hand typed words from humans. raw data might contain unwanted or unimportant text due to which our results might not get efficient accuracy. so we need to preprocess the text data before any kind of modelling. "
   ]
  },
  {
   "cell_type": "markdown",
   "id": "19e0eb3d",
   "metadata": {
    "papermill": {
     "duration": 0.063764,
     "end_time": "2022-05-18T05:57:55.510016",
     "exception": false,
     "start_time": "2022-05-18T05:57:55.446252",
     "status": "completed"
    },
    "tags": []
   },
   "source": [
    "<span style = \"color:#1fe309; font-weight:700; font-size:25px;\"> Lower Casing </span>"
   ]
  },
  {
   "cell_type": "code",
   "execution_count": 5,
   "id": "973adafc",
   "metadata": {
    "execution": {
     "iopub.execute_input": "2022-05-18T05:57:55.656611Z",
     "iopub.status.busy": "2022-05-18T05:57:55.655911Z",
     "iopub.status.idle": "2022-05-18T05:57:55.660420Z",
     "shell.execute_reply": "2022-05-18T05:57:55.660929Z",
     "shell.execute_reply.started": "2022-05-18T04:19:18.988451Z"
    },
    "papermill": {
     "duration": 0.087239,
     "end_time": "2022-05-18T05:57:55.661122",
     "exception": false,
     "start_time": "2022-05-18T05:57:55.573883",
     "status": "completed"
    },
    "tags": []
   },
   "outputs": [
    {
     "name": "stderr",
     "output_type": "stream",
     "text": [
      "/opt/conda/lib/python3.7/site-packages/ipykernel_launcher.py:1: SettingWithCopyWarning: \n",
      "A value is trying to be set on a copy of a slice from a DataFrame.\n",
      "Try using .loc[row_indexer,col_indexer] = value instead\n",
      "\n",
      "See the caveats in the documentation: https://pandas.pydata.org/pandas-docs/stable/user_guide/indexing.html#returning-a-view-versus-a-copy\n",
      "  \"\"\"Entry point for launching an IPython kernel.\n"
     ]
    },
    {
     "data": {
      "text/html": [
       "<div>\n",
       "<style scoped>\n",
       "    .dataframe tbody tr th:only-of-type {\n",
       "        vertical-align: middle;\n",
       "    }\n",
       "\n",
       "    .dataframe tbody tr th {\n",
       "        vertical-align: top;\n",
       "    }\n",
       "\n",
       "    .dataframe thead th {\n",
       "        text-align: right;\n",
       "    }\n",
       "</style>\n",
       "<table border=\"1\" class=\"dataframe\">\n",
       "  <thead>\n",
       "    <tr style=\"text-align: right;\">\n",
       "      <th></th>\n",
       "      <th>overall</th>\n",
       "      <th>reviewText</th>\n",
       "    </tr>\n",
       "  </thead>\n",
       "  <tbody>\n",
       "    <tr>\n",
       "      <th>0</th>\n",
       "      <td>4.0</td>\n",
       "      <td>no issues.</td>\n",
       "    </tr>\n",
       "    <tr>\n",
       "      <th>1</th>\n",
       "      <td>5.0</td>\n",
       "      <td>purchased this for my device, it worked as adv...</td>\n",
       "    </tr>\n",
       "    <tr>\n",
       "      <th>2</th>\n",
       "      <td>4.0</td>\n",
       "      <td>it works as expected. i should have sprung for...</td>\n",
       "    </tr>\n",
       "    <tr>\n",
       "      <th>3</th>\n",
       "      <td>5.0</td>\n",
       "      <td>this think has worked out great.had a diff. br...</td>\n",
       "    </tr>\n",
       "    <tr>\n",
       "      <th>4</th>\n",
       "      <td>5.0</td>\n",
       "      <td>bought it with retail packaging, arrived legit...</td>\n",
       "    </tr>\n",
       "  </tbody>\n",
       "</table>\n",
       "</div>"
      ],
      "text/plain": [
       "   overall                                         reviewText\n",
       "0      4.0                                         no issues.\n",
       "1      5.0  purchased this for my device, it worked as adv...\n",
       "2      4.0  it works as expected. i should have sprung for...\n",
       "3      5.0  this think has worked out great.had a diff. br...\n",
       "4      5.0  bought it with retail packaging, arrived legit..."
      ]
     },
     "execution_count": 5,
     "metadata": {},
     "output_type": "execute_result"
    }
   ],
   "source": [
    "data['reviewText'] = data['reviewText'].str.lower()\n",
    "data.head()"
   ]
  },
  {
   "cell_type": "markdown",
   "id": "04e5e57e",
   "metadata": {
    "papermill": {
     "duration": 0.069657,
     "end_time": "2022-05-18T05:57:55.796615",
     "exception": false,
     "start_time": "2022-05-18T05:57:55.726958",
     "status": "completed"
    },
    "tags": []
   },
   "source": [
    "<span style = \"color:#1fe309; font-weight:700; font-size:25px;\">Punctuations</span>"
   ]
  },
  {
   "cell_type": "code",
   "execution_count": 6,
   "id": "af745e0d",
   "metadata": {
    "execution": {
     "iopub.execute_input": "2022-05-18T05:57:55.934005Z",
     "iopub.status.busy": "2022-05-18T05:57:55.933296Z",
     "iopub.status.idle": "2022-05-18T05:57:56.005553Z",
     "shell.execute_reply": "2022-05-18T05:57:56.006087Z",
     "shell.execute_reply.started": "2022-05-18T04:19:21.650188Z"
    },
    "papermill": {
     "duration": 0.141538,
     "end_time": "2022-05-18T05:57:56.006292",
     "exception": false,
     "start_time": "2022-05-18T05:57:55.864754",
     "status": "completed"
    },
    "tags": []
   },
   "outputs": [
    {
     "name": "stderr",
     "output_type": "stream",
     "text": [
      "/opt/conda/lib/python3.7/site-packages/ipykernel_launcher.py:1: FutureWarning: The default value of regex will change from True to False in a future version.\n",
      "  \"\"\"Entry point for launching an IPython kernel.\n",
      "/opt/conda/lib/python3.7/site-packages/ipykernel_launcher.py:1: SettingWithCopyWarning: \n",
      "A value is trying to be set on a copy of a slice from a DataFrame.\n",
      "Try using .loc[row_indexer,col_indexer] = value instead\n",
      "\n",
      "See the caveats in the documentation: https://pandas.pydata.org/pandas-docs/stable/user_guide/indexing.html#returning-a-view-versus-a-copy\n",
      "  \"\"\"Entry point for launching an IPython kernel.\n"
     ]
    },
    {
     "data": {
      "text/html": [
       "<div>\n",
       "<style scoped>\n",
       "    .dataframe tbody tr th:only-of-type {\n",
       "        vertical-align: middle;\n",
       "    }\n",
       "\n",
       "    .dataframe tbody tr th {\n",
       "        vertical-align: top;\n",
       "    }\n",
       "\n",
       "    .dataframe thead th {\n",
       "        text-align: right;\n",
       "    }\n",
       "</style>\n",
       "<table border=\"1\" class=\"dataframe\">\n",
       "  <thead>\n",
       "    <tr style=\"text-align: right;\">\n",
       "      <th></th>\n",
       "      <th>overall</th>\n",
       "      <th>reviewText</th>\n",
       "    </tr>\n",
       "  </thead>\n",
       "  <tbody>\n",
       "    <tr>\n",
       "      <th>0</th>\n",
       "      <td>4.0</td>\n",
       "      <td>no issues</td>\n",
       "    </tr>\n",
       "    <tr>\n",
       "      <th>1</th>\n",
       "      <td>5.0</td>\n",
       "      <td>purchased this for my device it worked as adve...</td>\n",
       "    </tr>\n",
       "    <tr>\n",
       "      <th>2</th>\n",
       "      <td>4.0</td>\n",
       "      <td>it works as expected i should have sprung for ...</td>\n",
       "    </tr>\n",
       "    <tr>\n",
       "      <th>3</th>\n",
       "      <td>5.0</td>\n",
       "      <td>this think has worked out greathad a diff bran...</td>\n",
       "    </tr>\n",
       "    <tr>\n",
       "      <th>4</th>\n",
       "      <td>5.0</td>\n",
       "      <td>bought it with retail packaging arrived legit ...</td>\n",
       "    </tr>\n",
       "  </tbody>\n",
       "</table>\n",
       "</div>"
      ],
      "text/plain": [
       "   overall                                         reviewText\n",
       "0      4.0                                          no issues\n",
       "1      5.0  purchased this for my device it worked as adve...\n",
       "2      4.0  it works as expected i should have sprung for ...\n",
       "3      5.0  this think has worked out greathad a diff bran...\n",
       "4      5.0  bought it with retail packaging arrived legit ..."
      ]
     },
     "execution_count": 6,
     "metadata": {},
     "output_type": "execute_result"
    }
   ],
   "source": [
    "data['reviewText'] = data['reviewText'].str.replace('[^\\w\\s]', '')\n",
    "data.head()"
   ]
  },
  {
   "cell_type": "markdown",
   "id": "19b8836e",
   "metadata": {
    "papermill": {
     "duration": 0.067347,
     "end_time": "2022-05-18T05:57:56.140904",
     "exception": false,
     "start_time": "2022-05-18T05:57:56.073557",
     "status": "completed"
    },
    "tags": []
   },
   "source": [
    "<span style = \"color:#1fe309; font-weight:700; font-size:25px;\">Removing Numbers</span>"
   ]
  },
  {
   "cell_type": "code",
   "execution_count": 7,
   "id": "00e5154c",
   "metadata": {
    "execution": {
     "iopub.execute_input": "2022-05-18T05:57:56.282598Z",
     "iopub.status.busy": "2022-05-18T05:57:56.281584Z",
     "iopub.status.idle": "2022-05-18T05:57:56.327269Z",
     "shell.execute_reply": "2022-05-18T05:57:56.327772Z",
     "shell.execute_reply.started": "2022-05-18T04:19:24.929322Z"
    },
    "papermill": {
     "duration": 0.116759,
     "end_time": "2022-05-18T05:57:56.327939",
     "exception": false,
     "start_time": "2022-05-18T05:57:56.211180",
     "status": "completed"
    },
    "tags": []
   },
   "outputs": [
    {
     "name": "stderr",
     "output_type": "stream",
     "text": [
      "/opt/conda/lib/python3.7/site-packages/ipykernel_launcher.py:1: FutureWarning: The default value of regex will change from True to False in a future version.\n",
      "  \"\"\"Entry point for launching an IPython kernel.\n",
      "/opt/conda/lib/python3.7/site-packages/ipykernel_launcher.py:1: SettingWithCopyWarning: \n",
      "A value is trying to be set on a copy of a slice from a DataFrame.\n",
      "Try using .loc[row_indexer,col_indexer] = value instead\n",
      "\n",
      "See the caveats in the documentation: https://pandas.pydata.org/pandas-docs/stable/user_guide/indexing.html#returning-a-view-versus-a-copy\n",
      "  \"\"\"Entry point for launching an IPython kernel.\n"
     ]
    },
    {
     "data": {
      "text/html": [
       "<div>\n",
       "<style scoped>\n",
       "    .dataframe tbody tr th:only-of-type {\n",
       "        vertical-align: middle;\n",
       "    }\n",
       "\n",
       "    .dataframe tbody tr th {\n",
       "        vertical-align: top;\n",
       "    }\n",
       "\n",
       "    .dataframe thead th {\n",
       "        text-align: right;\n",
       "    }\n",
       "</style>\n",
       "<table border=\"1\" class=\"dataframe\">\n",
       "  <thead>\n",
       "    <tr style=\"text-align: right;\">\n",
       "      <th></th>\n",
       "      <th>overall</th>\n",
       "      <th>reviewText</th>\n",
       "    </tr>\n",
       "  </thead>\n",
       "  <tbody>\n",
       "    <tr>\n",
       "      <th>0</th>\n",
       "      <td>4.0</td>\n",
       "      <td>no issues</td>\n",
       "    </tr>\n",
       "    <tr>\n",
       "      <th>1</th>\n",
       "      <td>5.0</td>\n",
       "      <td>purchased this for my device it worked as adve...</td>\n",
       "    </tr>\n",
       "    <tr>\n",
       "      <th>2</th>\n",
       "      <td>4.0</td>\n",
       "      <td>it works as expected i should have sprung for ...</td>\n",
       "    </tr>\n",
       "    <tr>\n",
       "      <th>3</th>\n",
       "      <td>5.0</td>\n",
       "      <td>this think has worked out greathad a diff bran...</td>\n",
       "    </tr>\n",
       "    <tr>\n",
       "      <th>4</th>\n",
       "      <td>5.0</td>\n",
       "      <td>bought it with retail packaging arrived legit ...</td>\n",
       "    </tr>\n",
       "  </tbody>\n",
       "</table>\n",
       "</div>"
      ],
      "text/plain": [
       "   overall                                         reviewText\n",
       "0      4.0                                          no issues\n",
       "1      5.0  purchased this for my device it worked as adve...\n",
       "2      4.0  it works as expected i should have sprung for ...\n",
       "3      5.0  this think has worked out greathad a diff bran...\n",
       "4      5.0  bought it with retail packaging arrived legit ..."
      ]
     },
     "execution_count": 7,
     "metadata": {},
     "output_type": "execute_result"
    }
   ],
   "source": [
    "data['reviewText'] = data['reviewText'].str.replace('\\d', '')\n",
    "data.head()"
   ]
  },
  {
   "cell_type": "markdown",
   "id": "c6fd801f",
   "metadata": {
    "papermill": {
     "duration": 0.068722,
     "end_time": "2022-05-18T05:57:56.464793",
     "exception": false,
     "start_time": "2022-05-18T05:57:56.396071",
     "status": "completed"
    },
    "tags": []
   },
   "source": [
    "<span style = \"color:#1fe309; font-weight:700; font-size:25px;\">Removing Stopwords</span>"
   ]
  },
  {
   "cell_type": "markdown",
   "id": "98b3dcd2",
   "metadata": {
    "papermill": {
     "duration": 0.068557,
     "end_time": "2022-05-18T05:57:56.602045",
     "exception": false,
     "start_time": "2022-05-18T05:57:56.533488",
     "status": "completed"
    },
    "tags": []
   },
   "source": [
    "### Stopwords are the commonly used words in any language. these words carry no or les meanings. these words are removed from the text as they do not add any value in the analysis"
   ]
  },
  {
   "cell_type": "code",
   "execution_count": 8,
   "id": "b0610271",
   "metadata": {
    "execution": {
     "iopub.execute_input": "2022-05-18T05:57:56.744877Z",
     "iopub.status.busy": "2022-05-18T05:57:56.743864Z",
     "iopub.status.idle": "2022-05-18T05:57:56.759178Z",
     "shell.execute_reply": "2022-05-18T05:57:56.758515Z",
     "shell.execute_reply.started": "2022-05-18T04:19:29.693520Z"
    },
    "papermill": {
     "duration": 0.088006,
     "end_time": "2022-05-18T05:57:56.759321",
     "exception": false,
     "start_time": "2022-05-18T05:57:56.671315",
     "status": "completed"
    },
    "tags": []
   },
   "outputs": [
    {
     "data": {
      "text/plain": [
       "['i',\n",
       " 'me',\n",
       " 'my',\n",
       " 'myself',\n",
       " 'we',\n",
       " 'our',\n",
       " 'ours',\n",
       " 'ourselves',\n",
       " 'you',\n",
       " \"you're\",\n",
       " \"you've\",\n",
       " \"you'll\",\n",
       " \"you'd\",\n",
       " 'your',\n",
       " 'yours',\n",
       " 'yourself',\n",
       " 'yourselves',\n",
       " 'he',\n",
       " 'him',\n",
       " 'his']"
      ]
     },
     "execution_count": 8,
     "metadata": {},
     "output_type": "execute_result"
    }
   ],
   "source": [
    "sw = stopwords.words('english')\n",
    "sw[0:20]"
   ]
  },
  {
   "cell_type": "code",
   "execution_count": 9,
   "id": "3533f414",
   "metadata": {
    "execution": {
     "iopub.execute_input": "2022-05-18T05:57:56.919744Z",
     "iopub.status.busy": "2022-05-18T05:57:56.914260Z",
     "iopub.status.idle": "2022-05-18T05:57:57.335893Z",
     "shell.execute_reply": "2022-05-18T05:57:57.336916Z",
     "shell.execute_reply.started": "2022-05-18T04:19:32.948486Z"
    },
    "papermill": {
     "duration": 0.508579,
     "end_time": "2022-05-18T05:57:57.337136",
     "exception": false,
     "start_time": "2022-05-18T05:57:56.828557",
     "status": "completed"
    },
    "tags": []
   },
   "outputs": [
    {
     "name": "stderr",
     "output_type": "stream",
     "text": [
      "/opt/conda/lib/python3.7/site-packages/ipykernel_launcher.py:1: SettingWithCopyWarning: \n",
      "A value is trying to be set on a copy of a slice from a DataFrame.\n",
      "Try using .loc[row_indexer,col_indexer] = value instead\n",
      "\n",
      "See the caveats in the documentation: https://pandas.pydata.org/pandas-docs/stable/user_guide/indexing.html#returning-a-view-versus-a-copy\n",
      "  \"\"\"Entry point for launching an IPython kernel.\n"
     ]
    },
    {
     "data": {
      "text/html": [
       "<div>\n",
       "<style scoped>\n",
       "    .dataframe tbody tr th:only-of-type {\n",
       "        vertical-align: middle;\n",
       "    }\n",
       "\n",
       "    .dataframe tbody tr th {\n",
       "        vertical-align: top;\n",
       "    }\n",
       "\n",
       "    .dataframe thead th {\n",
       "        text-align: right;\n",
       "    }\n",
       "</style>\n",
       "<table border=\"1\" class=\"dataframe\">\n",
       "  <thead>\n",
       "    <tr style=\"text-align: right;\">\n",
       "      <th></th>\n",
       "      <th>overall</th>\n",
       "      <th>reviewText</th>\n",
       "    </tr>\n",
       "  </thead>\n",
       "  <tbody>\n",
       "    <tr>\n",
       "      <th>0</th>\n",
       "      <td>4.0</td>\n",
       "      <td>issues</td>\n",
       "    </tr>\n",
       "    <tr>\n",
       "      <th>1</th>\n",
       "      <td>5.0</td>\n",
       "      <td>purchased device worked advertised never much ...</td>\n",
       "    </tr>\n",
       "    <tr>\n",
       "      <th>2</th>\n",
       "      <td>4.0</td>\n",
       "      <td>works expected sprung higher capacity think ma...</td>\n",
       "    </tr>\n",
       "    <tr>\n",
       "      <th>3</th>\n",
       "      <td>5.0</td>\n",
       "      <td>think worked greathad diff bran gb card went s...</td>\n",
       "    </tr>\n",
       "    <tr>\n",
       "      <th>4</th>\n",
       "      <td>5.0</td>\n",
       "      <td>bought retail packaging arrived legit orange e...</td>\n",
       "    </tr>\n",
       "  </tbody>\n",
       "</table>\n",
       "</div>"
      ],
      "text/plain": [
       "   overall                                         reviewText\n",
       "0      4.0                                             issues\n",
       "1      5.0  purchased device worked advertised never much ...\n",
       "2      4.0  works expected sprung higher capacity think ma...\n",
       "3      5.0  think worked greathad diff bran gb card went s...\n",
       "4      5.0  bought retail packaging arrived legit orange e..."
      ]
     },
     "execution_count": 9,
     "metadata": {},
     "output_type": "execute_result"
    }
   ],
   "source": [
    "data['reviewText'] = data['reviewText'].apply(lambda x: \" \".join(x for x in str(x).split() if x not in sw))\n",
    "data.head()"
   ]
  },
  {
   "cell_type": "markdown",
   "id": "40469e66",
   "metadata": {
    "papermill": {
     "duration": 0.068148,
     "end_time": "2022-05-18T05:57:57.475089",
     "exception": false,
     "start_time": "2022-05-18T05:57:57.406941",
     "status": "completed"
    },
    "tags": []
   },
   "source": [
    "<span style = \"color:#1fe309; font-weight:700; font-size:25px;\">Removing Rarewords</span>"
   ]
  },
  {
   "cell_type": "code",
   "execution_count": 10,
   "id": "a98aa0e8",
   "metadata": {
    "execution": {
     "iopub.execute_input": "2022-05-18T05:57:57.631716Z",
     "iopub.status.busy": "2022-05-18T05:57:57.630991Z",
     "iopub.status.idle": "2022-05-18T05:57:57.887683Z",
     "shell.execute_reply": "2022-05-18T05:57:57.886805Z",
     "shell.execute_reply.started": "2022-05-18T04:19:46.139243Z"
    },
    "papermill": {
     "duration": 0.343719,
     "end_time": "2022-05-18T05:57:57.887913",
     "exception": false,
     "start_time": "2022-05-18T05:57:57.544194",
     "status": "completed"
    },
    "tags": []
   },
   "outputs": [
    {
     "name": "stderr",
     "output_type": "stream",
     "text": [
      "/opt/conda/lib/python3.7/site-packages/ipykernel_launcher.py:5: SettingWithCopyWarning: \n",
      "A value is trying to be set on a copy of a slice from a DataFrame.\n",
      "Try using .loc[row_indexer,col_indexer] = value instead\n",
      "\n",
      "See the caveats in the documentation: https://pandas.pydata.org/pandas-docs/stable/user_guide/indexing.html#returning-a-view-versus-a-copy\n",
      "  \"\"\"\n"
     ]
    },
    {
     "data": {
      "text/html": [
       "<div>\n",
       "<style scoped>\n",
       "    .dataframe tbody tr th:only-of-type {\n",
       "        vertical-align: middle;\n",
       "    }\n",
       "\n",
       "    .dataframe tbody tr th {\n",
       "        vertical-align: top;\n",
       "    }\n",
       "\n",
       "    .dataframe thead th {\n",
       "        text-align: right;\n",
       "    }\n",
       "</style>\n",
       "<table border=\"1\" class=\"dataframe\">\n",
       "  <thead>\n",
       "    <tr style=\"text-align: right;\">\n",
       "      <th></th>\n",
       "      <th>overall</th>\n",
       "      <th>reviewText</th>\n",
       "    </tr>\n",
       "  </thead>\n",
       "  <tbody>\n",
       "    <tr>\n",
       "      <th>0</th>\n",
       "      <td>4.0</td>\n",
       "      <td>issues</td>\n",
       "    </tr>\n",
       "    <tr>\n",
       "      <th>1</th>\n",
       "      <td>5.0</td>\n",
       "      <td>purchased device worked advertised never much ...</td>\n",
       "    </tr>\n",
       "    <tr>\n",
       "      <th>2</th>\n",
       "      <td>4.0</td>\n",
       "      <td>works expected higher capacity think made bit ...</td>\n",
       "    </tr>\n",
       "    <tr>\n",
       "      <th>3</th>\n",
       "      <td>5.0</td>\n",
       "      <td>think worked gb card went south one held prett...</td>\n",
       "    </tr>\n",
       "    <tr>\n",
       "      <th>4</th>\n",
       "      <td>5.0</td>\n",
       "      <td>bought retail packaging arrived legit envelope...</td>\n",
       "    </tr>\n",
       "  </tbody>\n",
       "</table>\n",
       "</div>"
      ],
      "text/plain": [
       "   overall                                         reviewText\n",
       "0      4.0                                             issues\n",
       "1      5.0  purchased device worked advertised never much ...\n",
       "2      4.0  works expected higher capacity think made bit ...\n",
       "3      5.0  think worked gb card went south one held prett...\n",
       "4      5.0  bought retail packaging arrived legit envelope..."
      ]
     },
     "execution_count": 10,
     "metadata": {},
     "output_type": "execute_result"
    }
   ],
   "source": [
    "temp_df = pd.Series(' '.join(data['reviewText']).split()).value_counts()\n",
    "\n",
    "drops = temp_df[temp_df <= 1]\n",
    "\n",
    "data['reviewText'] = data['reviewText'].apply(lambda x: \" \".join(x for x in x.split() if x not in drops))\n",
    "data.head()"
   ]
  },
  {
   "cell_type": "markdown",
   "id": "227bd970",
   "metadata": {
    "papermill": {
     "duration": 0.069148,
     "end_time": "2022-05-18T05:57:58.030389",
     "exception": false,
     "start_time": "2022-05-18T05:57:57.961241",
     "status": "completed"
    },
    "tags": []
   },
   "source": [
    "<span style = \"color:#1fe309; font-weight:700; font-size:25px;\">Tokenization</span>"
   ]
  },
  {
   "cell_type": "markdown",
   "id": "193b928a",
   "metadata": {
    "papermill": {
     "duration": 0.069438,
     "end_time": "2022-05-18T05:57:58.170346",
     "exception": false,
     "start_time": "2022-05-18T05:57:58.100908",
     "status": "completed"
    },
    "tags": []
   },
   "source": [
    "### Tokenization is a way of seperating a piece of text into smaller units called tokens. \n",
    "### there are diffrerent types of Tokenization. e.g. sentence tokenization and word tokenization. \n",
    "### an example of word Tokenization is ['Life is a matter of choice'] becomes \n",
    "### ['Life', 'is', 'a', 'matter', 'of', 'choice']\n",
    "### for more information on Tokenization please refer to [this link ](https://www.analyticsvidhya.com/blog/2020/05/what-is-tokenization-nlp/)"
   ]
  },
  {
   "cell_type": "code",
   "execution_count": 11,
   "id": "2beb3580",
   "metadata": {
    "execution": {
     "iopub.execute_input": "2022-05-18T05:57:58.319398Z",
     "iopub.status.busy": "2022-05-18T05:57:58.318479Z",
     "iopub.status.idle": "2022-05-18T05:58:00.883474Z",
     "shell.execute_reply": "2022-05-18T05:58:00.882856Z",
     "shell.execute_reply.started": "2022-05-18T04:26:38.451221Z"
    },
    "papermill": {
     "duration": 2.642248,
     "end_time": "2022-05-18T05:58:00.883620",
     "exception": false,
     "start_time": "2022-05-18T05:57:58.241372",
     "status": "completed"
    },
    "tags": []
   },
   "outputs": [
    {
     "data": {
      "text/plain": [
       "0                                             [issues]\n",
       "1    [purchased, device, worked, advertised, never,...\n",
       "2    [works, expected, higher, capacity, think, mad...\n",
       "3    [think, worked, gb, card, went, south, one, he...\n",
       "4    [bought, retail, packaging, arrived, legit, en...\n",
       "Name: reviewText, dtype: object"
      ]
     },
     "execution_count": 11,
     "metadata": {},
     "output_type": "execute_result"
    }
   ],
   "source": [
    "data[\"reviewText\"].apply(lambda x: TextBlob(x).words).head()"
   ]
  },
  {
   "cell_type": "markdown",
   "id": "fd32ec26",
   "metadata": {
    "papermill": {
     "duration": 0.072021,
     "end_time": "2022-05-18T05:58:01.025524",
     "exception": false,
     "start_time": "2022-05-18T05:58:00.953503",
     "status": "completed"
    },
    "tags": []
   },
   "source": [
    "<span style = \"color:#1fe309; font-weight:700; font-size:25px;\">Lemmatization</span>"
   ]
  },
  {
   "cell_type": "markdown",
   "id": "dea47931",
   "metadata": {
    "papermill": {
     "duration": 0.071081,
     "end_time": "2022-05-18T05:58:01.166759",
     "exception": false,
     "start_time": "2022-05-18T05:58:01.095678",
     "status": "completed"
    },
    "tags": []
   },
   "source": [
    "### Lemmatization is a method that switches any word to its base root mode. \n",
    "### for example, 'studies' becomes 'stduy' \n",
    "### for more information on Lemmatization please refer to [this link](https://www.analyticssteps.com/blogs/what-stemming-and-lemmatization-nlp)"
   ]
  },
  {
   "cell_type": "code",
   "execution_count": 12,
   "id": "1e9defc8",
   "metadata": {
    "execution": {
     "iopub.execute_input": "2022-05-18T05:58:01.311560Z",
     "iopub.status.busy": "2022-05-18T05:58:01.310847Z",
     "iopub.status.idle": "2022-05-18T05:58:04.405677Z",
     "shell.execute_reply": "2022-05-18T05:58:04.405102Z",
     "shell.execute_reply.started": "2022-05-18T04:35:14.405058Z"
    },
    "papermill": {
     "duration": 3.166997,
     "end_time": "2022-05-18T05:58:04.405836",
     "exception": false,
     "start_time": "2022-05-18T05:58:01.238839",
     "status": "completed"
    },
    "tags": []
   },
   "outputs": [
    {
     "name": "stderr",
     "output_type": "stream",
     "text": [
      "/opt/conda/lib/python3.7/site-packages/ipykernel_launcher.py:1: SettingWithCopyWarning: \n",
      "A value is trying to be set on a copy of a slice from a DataFrame.\n",
      "Try using .loc[row_indexer,col_indexer] = value instead\n",
      "\n",
      "See the caveats in the documentation: https://pandas.pydata.org/pandas-docs/stable/user_guide/indexing.html#returning-a-view-versus-a-copy\n",
      "  \"\"\"Entry point for launching an IPython kernel.\n"
     ]
    },
    {
     "data": {
      "text/html": [
       "<div>\n",
       "<style scoped>\n",
       "    .dataframe tbody tr th:only-of-type {\n",
       "        vertical-align: middle;\n",
       "    }\n",
       "\n",
       "    .dataframe tbody tr th {\n",
       "        vertical-align: top;\n",
       "    }\n",
       "\n",
       "    .dataframe thead th {\n",
       "        text-align: right;\n",
       "    }\n",
       "</style>\n",
       "<table border=\"1\" class=\"dataframe\">\n",
       "  <thead>\n",
       "    <tr style=\"text-align: right;\">\n",
       "      <th></th>\n",
       "      <th>overall</th>\n",
       "      <th>reviewText</th>\n",
       "    </tr>\n",
       "  </thead>\n",
       "  <tbody>\n",
       "    <tr>\n",
       "      <th>0</th>\n",
       "      <td>4.0</td>\n",
       "      <td>issue</td>\n",
       "    </tr>\n",
       "    <tr>\n",
       "      <th>1</th>\n",
       "      <td>5.0</td>\n",
       "      <td>purchased device worked advertised never much ...</td>\n",
       "    </tr>\n",
       "    <tr>\n",
       "      <th>2</th>\n",
       "      <td>4.0</td>\n",
       "      <td>work expected higher capacity think made bit e...</td>\n",
       "    </tr>\n",
       "    <tr>\n",
       "      <th>3</th>\n",
       "      <td>5.0</td>\n",
       "      <td>think worked gb card went south one held prett...</td>\n",
       "    </tr>\n",
       "    <tr>\n",
       "      <th>4</th>\n",
       "      <td>5.0</td>\n",
       "      <td>bought retail packaging arrived legit envelope...</td>\n",
       "    </tr>\n",
       "  </tbody>\n",
       "</table>\n",
       "</div>"
      ],
      "text/plain": [
       "   overall                                         reviewText\n",
       "0      4.0                                              issue\n",
       "1      5.0  purchased device worked advertised never much ...\n",
       "2      4.0  work expected higher capacity think made bit e...\n",
       "3      5.0  think worked gb card went south one held prett...\n",
       "4      5.0  bought retail packaging arrived legit envelope..."
      ]
     },
     "execution_count": 12,
     "metadata": {},
     "output_type": "execute_result"
    }
   ],
   "source": [
    "data['reviewText'] = data['reviewText'].apply(lambda x: \" \".join([Word(word).lemmatize() for word in x.split()]))\n",
    "data.head()"
   ]
  },
  {
   "cell_type": "markdown",
   "id": "c7083ee8",
   "metadata": {
    "papermill": {
     "duration": 0.071856,
     "end_time": "2022-05-18T05:58:04.551548",
     "exception": false,
     "start_time": "2022-05-18T05:58:04.479692",
     "status": "completed"
    },
    "tags": []
   },
   "source": [
    "# <span style=\"color:#0c5204; font-weight:700; font-size:30px\">Text Visualization</span>\n"
   ]
  },
  {
   "cell_type": "markdown",
   "id": "97a95e3c",
   "metadata": {
    "papermill": {
     "duration": 0.071533,
     "end_time": "2022-05-18T05:58:04.694124",
     "exception": false,
     "start_time": "2022-05-18T05:58:04.622591",
     "status": "completed"
    },
    "tags": []
   },
   "source": [
    "<span style = \"color:#1fe309; font-weight:700; font-size:25px;\">Calculation of Term Frequencies </span>"
   ]
  },
  {
   "cell_type": "markdown",
   "id": "138d6e47",
   "metadata": {
    "papermill": {
     "duration": 0.072764,
     "end_time": "2022-05-18T05:58:04.837527",
     "exception": false,
     "start_time": "2022-05-18T05:58:04.764763",
     "status": "completed"
    },
    "tags": []
   },
   "source": [
    "### Term Frequency is nothing but the measurement of how frequently a term occures within a document"
   ]
  },
  {
   "cell_type": "code",
   "execution_count": 13,
   "id": "ec7dd9aa",
   "metadata": {
    "execution": {
     "iopub.execute_input": "2022-05-18T05:58:04.988830Z",
     "iopub.status.busy": "2022-05-18T05:58:04.988154Z",
     "iopub.status.idle": "2022-05-18T05:58:10.204690Z",
     "shell.execute_reply": "2022-05-18T05:58:10.205456Z",
     "shell.execute_reply.started": "2022-05-18T04:37:11.371827Z"
    },
    "papermill": {
     "duration": 5.295614,
     "end_time": "2022-05-18T05:58:10.205704",
     "exception": false,
     "start_time": "2022-05-18T05:58:04.910090",
     "status": "completed"
    },
    "tags": []
   },
   "outputs": [
    {
     "data": {
      "text/html": [
       "<div>\n",
       "<style scoped>\n",
       "    .dataframe tbody tr th:only-of-type {\n",
       "        vertical-align: middle;\n",
       "    }\n",
       "\n",
       "    .dataframe tbody tr th {\n",
       "        vertical-align: top;\n",
       "    }\n",
       "\n",
       "    .dataframe thead th {\n",
       "        text-align: right;\n",
       "    }\n",
       "</style>\n",
       "<table border=\"1\" class=\"dataframe\">\n",
       "  <thead>\n",
       "    <tr style=\"text-align: right;\">\n",
       "      <th></th>\n",
       "      <th>words</th>\n",
       "      <th>tf</th>\n",
       "    </tr>\n",
       "  </thead>\n",
       "  <tbody>\n",
       "    <tr>\n",
       "      <th>0</th>\n",
       "      <td>issue</td>\n",
       "      <td>609.0</td>\n",
       "    </tr>\n",
       "    <tr>\n",
       "      <th>1</th>\n",
       "      <td>purchased</td>\n",
       "      <td>344.0</td>\n",
       "    </tr>\n",
       "    <tr>\n",
       "      <th>2</th>\n",
       "      <td>device</td>\n",
       "      <td>584.0</td>\n",
       "    </tr>\n",
       "    <tr>\n",
       "      <th>3</th>\n",
       "      <td>worked</td>\n",
       "      <td>460.0</td>\n",
       "    </tr>\n",
       "    <tr>\n",
       "      <th>4</th>\n",
       "      <td>advertised</td>\n",
       "      <td>111.0</td>\n",
       "    </tr>\n",
       "  </tbody>\n",
       "</table>\n",
       "</div>"
      ],
      "text/plain": [
       "        words     tf\n",
       "0       issue  609.0\n",
       "1   purchased  344.0\n",
       "2      device  584.0\n",
       "3      worked  460.0\n",
       "4  advertised  111.0"
      ]
     },
     "execution_count": 13,
     "metadata": {},
     "output_type": "execute_result"
    }
   ],
   "source": [
    "tf = data[\"reviewText\"].apply(lambda x: pd.value_counts(x.split(\" \"))).sum(axis=0).reset_index()\n",
    "tf.columns = [\"words\", \"tf\"]\n",
    "tf.head()"
   ]
  },
  {
   "cell_type": "code",
   "execution_count": 14,
   "id": "3c5ac96d",
   "metadata": {
    "execution": {
     "iopub.execute_input": "2022-05-18T05:58:10.365349Z",
     "iopub.status.busy": "2022-05-18T05:58:10.364462Z",
     "iopub.status.idle": "2022-05-18T05:58:10.367923Z",
     "shell.execute_reply": "2022-05-18T05:58:10.368444Z",
     "shell.execute_reply.started": "2022-05-18T04:39:08.769745Z"
    },
    "papermill": {
     "duration": 0.082544,
     "end_time": "2022-05-18T05:58:10.368618",
     "exception": false,
     "start_time": "2022-05-18T05:58:10.286074",
     "status": "completed"
    },
    "tags": []
   },
   "outputs": [
    {
     "data": {
      "text/plain": [
       "(3688, 2)"
      ]
     },
     "execution_count": 14,
     "metadata": {},
     "output_type": "execute_result"
    }
   ],
   "source": [
    "tf.shape"
   ]
  },
  {
   "cell_type": "code",
   "execution_count": 15,
   "id": "c766088e",
   "metadata": {
    "execution": {
     "iopub.execute_input": "2022-05-18T05:58:10.521189Z",
     "iopub.status.busy": "2022-05-18T05:58:10.520066Z",
     "iopub.status.idle": "2022-05-18T05:58:10.525863Z",
     "shell.execute_reply": "2022-05-18T05:58:10.526502Z",
     "shell.execute_reply.started": "2022-05-18T04:39:21.905002Z"
    },
    "papermill": {
     "duration": 0.086189,
     "end_time": "2022-05-18T05:58:10.526678",
     "exception": false,
     "start_time": "2022-05-18T05:58:10.440489",
     "status": "completed"
    },
    "tags": []
   },
   "outputs": [
    {
     "data": {
      "text/plain": [
       "3688"
      ]
     },
     "execution_count": 15,
     "metadata": {},
     "output_type": "execute_result"
    }
   ],
   "source": [
    "tf[\"words\"].nunique()"
   ]
  },
  {
   "cell_type": "code",
   "execution_count": 16,
   "id": "5335c887",
   "metadata": {
    "execution": {
     "iopub.execute_input": "2022-05-18T05:58:10.675617Z",
     "iopub.status.busy": "2022-05-18T05:58:10.674550Z",
     "iopub.status.idle": "2022-05-18T05:58:10.688320Z",
     "shell.execute_reply": "2022-05-18T05:58:10.688861Z",
     "shell.execute_reply.started": "2022-05-18T04:39:28.775465Z"
    },
    "papermill": {
     "duration": 0.090478,
     "end_time": "2022-05-18T05:58:10.689062",
     "exception": false,
     "start_time": "2022-05-18T05:58:10.598584",
     "status": "completed"
    },
    "tags": []
   },
   "outputs": [
    {
     "data": {
      "text/plain": [
       "count    3688.000000\n",
       "mean       32.308568\n",
       "std       140.407258\n",
       "min         1.000000\n",
       "5%          2.000000\n",
       "10%         2.000000\n",
       "25%         2.000000\n",
       "50%         5.000000\n",
       "75%        16.250000\n",
       "80%        23.600000\n",
       "90%        58.300000\n",
       "95%       123.000000\n",
       "99%       514.130000\n",
       "max      5537.000000\n",
       "Name: tf, dtype: float64"
      ]
     },
     "execution_count": 16,
     "metadata": {},
     "output_type": "execute_result"
    }
   ],
   "source": [
    "tf[\"tf\"].describe([0.05, 0.10, 0.25, 0.50, 0.75, 0.80, 0.90, 0.95, 0.99]).T"
   ]
  },
  {
   "cell_type": "markdown",
   "id": "02ea3865",
   "metadata": {
    "papermill": {
     "duration": 0.071431,
     "end_time": "2022-05-18T05:58:10.833284",
     "exception": false,
     "start_time": "2022-05-18T05:58:10.761853",
     "status": "completed"
    },
    "tags": []
   },
   "source": [
    "<span style = \"color:#1fe309; font-weight:700; font-size:25px;\">Barplot</span>"
   ]
  },
  {
   "cell_type": "code",
   "execution_count": 17,
   "id": "e47a2d9b",
   "metadata": {
    "execution": {
     "iopub.execute_input": "2022-05-18T05:58:10.988899Z",
     "iopub.status.busy": "2022-05-18T05:58:10.987858Z",
     "iopub.status.idle": "2022-05-18T05:58:11.452388Z",
     "shell.execute_reply": "2022-05-18T05:58:11.452866Z",
     "shell.execute_reply.started": "2022-05-18T04:41:18.777667Z"
    },
    "papermill": {
     "duration": 0.544118,
     "end_time": "2022-05-18T05:58:11.453067",
     "exception": false,
     "start_time": "2022-05-18T05:58:10.908949",
     "status": "completed"
    },
    "tags": []
   },
   "outputs": [
    {
     "data": {
      "image/png": "[encoded data removed]",
      "text/plain": [
       "<Figure size 432x288 with 1 Axes>"
      ]
     },
     "metadata": {
      "needs_background": "light"
     },
     "output_type": "display_data"
    }
   ],
   "source": [
    "tf[tf[\"tf\"] > 500].plot.bar(x=\"words\", y=\"tf\")\n",
    "plt.show()\n"
   ]
  },
  {
   "cell_type": "markdown",
   "id": "c1c8b579",
   "metadata": {
    "papermill": {
     "duration": 0.07263,
     "end_time": "2022-05-18T05:58:11.601254",
     "exception": false,
     "start_time": "2022-05-18T05:58:11.528624",
     "status": "completed"
    },
    "tags": []
   },
   "source": [
    "<span style = \"color:#1fe309; font-weight:700; font-size:25px;\">Wordcloud</span>"
   ]
  },
  {
   "cell_type": "markdown",
   "id": "cdef55cc",
   "metadata": {
    "papermill": {
     "duration": 0.072381,
     "end_time": "2022-05-18T05:58:11.746319",
     "exception": false,
     "start_time": "2022-05-18T05:58:11.673938",
     "status": "completed"
    },
    "tags": []
   },
   "source": [
    "### Word cloud is a fantastic way of text data visualization. the more frequently the word apprear in a document the bigger it looks in the plot. \n",
    "### [This link](https://boostlabs.com/blog/what-are-word-clouds-value-simple-visualizations/) will walk you through the word cloud technique"
   ]
  },
  {
   "cell_type": "code",
   "execution_count": 18,
   "id": "8a29dc5c",
   "metadata": {
    "execution": {
     "iopub.execute_input": "2022-05-18T05:58:11.898736Z",
     "iopub.status.busy": "2022-05-18T05:58:11.897670Z",
     "iopub.status.idle": "2022-05-18T05:58:13.324432Z",
     "shell.execute_reply": "2022-05-18T05:58:13.324933Z",
     "shell.execute_reply.started": "2022-05-18T04:45:53.459605Z"
    },
    "papermill": {
     "duration": 1.504044,
     "end_time": "2022-05-18T05:58:13.325122",
     "exception": false,
     "start_time": "2022-05-18T05:58:11.821078",
     "status": "completed"
    },
    "tags": []
   },
   "outputs": [
    {
     "data": {
      "image/png": "[encoded data removed]",
      "text/plain": [
       "<Figure size 432x288 with 1 Axes>"
      ]
     },
     "metadata": {
      "needs_background": "light"
     },
     "output_type": "display_data"
    }
   ],
   "source": [
    "text = \" \".join(i for i in data.reviewText)\n",
    "wordcloud = WordCloud(max_font_size=50,\n",
    "                      max_words=100,\n",
    "                      background_color=\"white\").generate(text)\n",
    "plt.figure()\n",
    "plt.imshow(wordcloud, interpolation=\"bilinear\")\n",
    "plt.axis(\"off\")\n",
    "plt.show()"
   ]
  },
  {
   "cell_type": "markdown",
   "id": "3549af0b",
   "metadata": {
    "papermill": {
     "duration": 0.078877,
     "end_time": "2022-05-18T05:58:13.480736",
     "exception": false,
     "start_time": "2022-05-18T05:58:13.401859",
     "status": "completed"
    },
    "tags": []
   },
   "source": [
    "# <span style=\"color:#0c5204; font-weight:700; font-size:30px\">Sentiment Analysis</span>"
   ]
  },
  {
   "cell_type": "markdown",
   "id": "3d6f215c",
   "metadata": {
    "papermill": {
     "duration": 0.094772,
     "end_time": "2022-05-18T05:58:13.654486",
     "exception": false,
     "start_time": "2022-05-18T05:58:13.559714",
     "status": "completed"
    },
    "tags": []
   },
   "source": [
    "### Sentiment analysis is the process of classiifying whether a text is positive negative or neutral. Sentiment analysis is contextual mining of words which indicates the social sentiment of a brand.The goal which Sentiment analysis tries to gain is to analyze people’s opinion in a way that it can help the businesses expand."
   ]
  },
  {
   "cell_type": "markdown",
   "id": "af8e9aed",
   "metadata": {
    "papermill": {
     "duration": 0.079385,
     "end_time": "2022-05-18T05:58:13.824526",
     "exception": false,
     "start_time": "2022-05-18T05:58:13.745141",
     "status": "completed"
    },
    "tags": []
   },
   "source": [
    "<span style = \"color:#1fe309; font-weight:700; font-size:25px;\">Polarity Score</span>"
   ]
  },
  {
   "cell_type": "markdown",
   "id": "a5f35b4c",
   "metadata": {
    "papermill": {
     "duration": 0.079067,
     "end_time": "2022-05-18T05:58:13.980353",
     "exception": false,
     "start_time": "2022-05-18T05:58:13.901286",
     "status": "completed"
    },
    "tags": []
   },
   "source": [
    "### Polarity is float which lies in the range of [-1,1] where 1 means positive statement and -1 means a negative statement."
   ]
  },
  {
   "cell_type": "code",
   "execution_count": 19,
   "id": "33916509",
   "metadata": {
    "execution": {
     "iopub.execute_input": "2022-05-18T05:58:14.142424Z",
     "iopub.status.busy": "2022-05-18T05:58:14.141517Z",
     "iopub.status.idle": "2022-05-18T05:58:16.098584Z",
     "shell.execute_reply": "2022-05-18T05:58:16.098043Z",
     "shell.execute_reply.started": "2022-05-18T04:55:47.338640Z"
    },
    "papermill": {
     "duration": 2.039651,
     "end_time": "2022-05-18T05:58:16.098727",
     "exception": false,
     "start_time": "2022-05-18T05:58:14.059076",
     "status": "completed"
    },
    "tags": []
   },
   "outputs": [
    {
     "name": "stderr",
     "output_type": "stream",
     "text": [
      "/opt/conda/lib/python3.7/site-packages/ipykernel_launcher.py:2: SettingWithCopyWarning: \n",
      "A value is trying to be set on a copy of a slice from a DataFrame.\n",
      "Try using .loc[row_indexer,col_indexer] = value instead\n",
      "\n",
      "See the caveats in the documentation: https://pandas.pydata.org/pandas-docs/stable/user_guide/indexing.html#returning-a-view-versus-a-copy\n",
      "  \n"
     ]
    },
    {
     "data": {
      "text/html": [
       "<div>\n",
       "<style scoped>\n",
       "    .dataframe tbody tr th:only-of-type {\n",
       "        vertical-align: middle;\n",
       "    }\n",
       "\n",
       "    .dataframe tbody tr th {\n",
       "        vertical-align: top;\n",
       "    }\n",
       "\n",
       "    .dataframe thead th {\n",
       "        text-align: right;\n",
       "    }\n",
       "</style>\n",
       "<table border=\"1\" class=\"dataframe\">\n",
       "  <thead>\n",
       "    <tr style=\"text-align: right;\">\n",
       "      <th></th>\n",
       "      <th>overall</th>\n",
       "      <th>reviewText</th>\n",
       "      <th>polarity_score</th>\n",
       "    </tr>\n",
       "  </thead>\n",
       "  <tbody>\n",
       "    <tr>\n",
       "      <th>0</th>\n",
       "      <td>4.0</td>\n",
       "      <td>issue</td>\n",
       "      <td>0.0000</td>\n",
       "    </tr>\n",
       "    <tr>\n",
       "      <th>1</th>\n",
       "      <td>5.0</td>\n",
       "      <td>purchased device worked advertised never much ...</td>\n",
       "      <td>0.0000</td>\n",
       "    </tr>\n",
       "    <tr>\n",
       "      <th>2</th>\n",
       "      <td>4.0</td>\n",
       "      <td>work expected higher capacity think made bit e...</td>\n",
       "      <td>0.4019</td>\n",
       "    </tr>\n",
       "    <tr>\n",
       "      <th>3</th>\n",
       "      <td>5.0</td>\n",
       "      <td>think worked gb card went south one held prett...</td>\n",
       "      <td>0.6486</td>\n",
       "    </tr>\n",
       "    <tr>\n",
       "      <th>4</th>\n",
       "      <td>5.0</td>\n",
       "      <td>bought retail packaging arrived legit envelope...</td>\n",
       "      <td>0.8591</td>\n",
       "    </tr>\n",
       "  </tbody>\n",
       "</table>\n",
       "</div>"
      ],
      "text/plain": [
       "   overall                                         reviewText  polarity_score\n",
       "0      4.0                                              issue          0.0000\n",
       "1      5.0  purchased device worked advertised never much ...          0.0000\n",
       "2      4.0  work expected higher capacity think made bit e...          0.4019\n",
       "3      5.0  think worked gb card went south one held prett...          0.6486\n",
       "4      5.0  bought retail packaging arrived legit envelope...          0.8591"
      ]
     },
     "execution_count": 19,
     "metadata": {},
     "output_type": "execute_result"
    }
   ],
   "source": [
    "sia = SentimentIntensityAnalyzer()\n",
    "data[\"polarity_score\"] = data[\"reviewText\"].apply(lambda x: sia.polarity_scores(x)[\"compound\"])\n",
    "data.head()"
   ]
  },
  {
   "cell_type": "markdown",
   "id": "e25821ac",
   "metadata": {
    "papermill": {
     "duration": 0.078246,
     "end_time": "2022-05-18T05:58:16.259191",
     "exception": false,
     "start_time": "2022-05-18T05:58:16.180945",
     "status": "completed"
    },
    "tags": []
   },
   "source": [
    "### This figure shows the distribution of polarity score in reviews. Most of the reviews are on positive side of the plot "
   ]
  },
  {
   "cell_type": "code",
   "execution_count": 20,
   "id": "5e114e43",
   "metadata": {
    "execution": {
     "iopub.execute_input": "2022-05-18T05:58:16.423954Z",
     "iopub.status.busy": "2022-05-18T05:58:16.423271Z",
     "iopub.status.idle": "2022-05-18T05:58:16.834955Z",
     "shell.execute_reply": "2022-05-18T05:58:16.834249Z",
     "shell.execute_reply.started": "2022-05-18T04:56:19.913448Z"
    },
    "papermill": {
     "duration": 0.495505,
     "end_time": "2022-05-18T05:58:16.835143",
     "exception": false,
     "start_time": "2022-05-18T05:58:16.339638",
     "status": "completed"
    },
    "tags": []
   },
   "outputs": [
    {
     "data": {
      "image/png": "[encoded data removed]",
      "text/plain": [
       "<Figure size 720x432 with 1 Axes>"
      ]
     },
     "metadata": {
      "needs_background": "light"
     },
     "output_type": "display_data"
    }
   ],
   "source": [
    "\n",
    "num_bins = 100\n",
    "plt.figure(figsize=(10,6))\n",
    "n, bins, patches = plt.hist(data.polarity_score, num_bins)\n",
    "plt.xlabel('polarity_score')\n",
    "plt.ylabel('Number of Reviews')\n",
    "plt.title('Histogram of Polarity Score')\n",
    "plt.show();"
   ]
  },
  {
   "cell_type": "markdown",
   "id": "17372df1",
   "metadata": {
    "papermill": {
     "duration": 0.080645,
     "end_time": "2022-05-18T05:58:16.994668",
     "exception": false,
     "start_time": "2022-05-18T05:58:16.914023",
     "status": "completed"
    },
    "tags": []
   },
   "source": [
    "# <span style=\"color:#0c5204; font-weight:700; font-size:30px\">Sentiment Modeling</span>"
   ]
  },
  {
   "cell_type": "markdown",
   "id": "bd506836",
   "metadata": {
    "papermill": {
     "duration": 0.08008,
     "end_time": "2022-05-18T05:58:17.156785",
     "exception": false,
     "start_time": "2022-05-18T05:58:17.076705",
     "status": "completed"
    },
    "tags": []
   },
   "source": [
    "<span style = \"color:#1fe309; font-weight:700; font-size:25px;\">Creating Target</span>"
   ]
  },
  {
   "cell_type": "markdown",
   "id": "726129aa",
   "metadata": {
    "papermill": {
     "duration": 0.077809,
     "end_time": "2022-05-18T05:58:17.313640",
     "exception": false,
     "start_time": "2022-05-18T05:58:17.235831",
     "status": "completed"
    },
    "tags": []
   },
   "source": [
    "### This classification model is a text classification model. When asked for various comments on this model, I would like to guess whether this comment is positive or negative, but we do not have the label to do so yet. That's why we create a label first."
   ]
  },
  {
   "cell_type": "code",
   "execution_count": 21,
   "id": "7816fd03",
   "metadata": {
    "execution": {
     "iopub.execute_input": "2022-05-18T05:58:17.486994Z",
     "iopub.status.busy": "2022-05-18T05:58:17.486242Z",
     "iopub.status.idle": "2022-05-18T05:58:19.409376Z",
     "shell.execute_reply": "2022-05-18T05:58:19.409865Z",
     "shell.execute_reply.started": "2022-05-18T04:58:40.141654Z"
    },
    "papermill": {
     "duration": 2.015579,
     "end_time": "2022-05-18T05:58:19.410050",
     "exception": false,
     "start_time": "2022-05-18T05:58:17.394471",
     "status": "completed"
    },
    "tags": []
   },
   "outputs": [
    {
     "name": "stderr",
     "output_type": "stream",
     "text": [
      "/opt/conda/lib/python3.7/site-packages/ipykernel_launcher.py:1: SettingWithCopyWarning: \n",
      "A value is trying to be set on a copy of a slice from a DataFrame.\n",
      "Try using .loc[row_indexer,col_indexer] = value instead\n",
      "\n",
      "See the caveats in the documentation: https://pandas.pydata.org/pandas-docs/stable/user_guide/indexing.html#returning-a-view-versus-a-copy\n",
      "  \"\"\"Entry point for launching an IPython kernel.\n"
     ]
    },
    {
     "data": {
      "text/html": [
       "<div>\n",
       "<style scoped>\n",
       "    .dataframe tbody tr th:only-of-type {\n",
       "        vertical-align: middle;\n",
       "    }\n",
       "\n",
       "    .dataframe tbody tr th {\n",
       "        vertical-align: top;\n",
       "    }\n",
       "\n",
       "    .dataframe thead th {\n",
       "        text-align: right;\n",
       "    }\n",
       "</style>\n",
       "<table border=\"1\" class=\"dataframe\">\n",
       "  <thead>\n",
       "    <tr style=\"text-align: right;\">\n",
       "      <th></th>\n",
       "      <th>overall</th>\n",
       "      <th>reviewText</th>\n",
       "      <th>polarity_score</th>\n",
       "      <th>sentiment_label</th>\n",
       "    </tr>\n",
       "  </thead>\n",
       "  <tbody>\n",
       "    <tr>\n",
       "      <th>0</th>\n",
       "      <td>4.0</td>\n",
       "      <td>issue</td>\n",
       "      <td>0.0000</td>\n",
       "      <td>neg</td>\n",
       "    </tr>\n",
       "    <tr>\n",
       "      <th>1</th>\n",
       "      <td>5.0</td>\n",
       "      <td>purchased device worked advertised never much ...</td>\n",
       "      <td>0.0000</td>\n",
       "      <td>neg</td>\n",
       "    </tr>\n",
       "    <tr>\n",
       "      <th>2</th>\n",
       "      <td>4.0</td>\n",
       "      <td>work expected higher capacity think made bit e...</td>\n",
       "      <td>0.4019</td>\n",
       "      <td>pos</td>\n",
       "    </tr>\n",
       "    <tr>\n",
       "      <th>3</th>\n",
       "      <td>5.0</td>\n",
       "      <td>think worked gb card went south one held prett...</td>\n",
       "      <td>0.6486</td>\n",
       "      <td>pos</td>\n",
       "    </tr>\n",
       "    <tr>\n",
       "      <th>4</th>\n",
       "      <td>5.0</td>\n",
       "      <td>bought retail packaging arrived legit envelope...</td>\n",
       "      <td>0.8591</td>\n",
       "      <td>pos</td>\n",
       "    </tr>\n",
       "  </tbody>\n",
       "</table>\n",
       "</div>"
      ],
      "text/plain": [
       "   overall                                         reviewText  polarity_score  \\\n",
       "0      4.0                                              issue          0.0000   \n",
       "1      5.0  purchased device worked advertised never much ...          0.0000   \n",
       "2      4.0  work expected higher capacity think made bit e...          0.4019   \n",
       "3      5.0  think worked gb card went south one held prett...          0.6486   \n",
       "4      5.0  bought retail packaging arrived legit envelope...          0.8591   \n",
       "\n",
       "  sentiment_label  \n",
       "0             neg  \n",
       "1             neg  \n",
       "2             pos  \n",
       "3             pos  \n",
       "4             pos  "
      ]
     },
     "execution_count": 21,
     "metadata": {},
     "output_type": "execute_result"
    }
   ],
   "source": [
    "data[\"sentiment_label\"] = data[\"reviewText\"].apply(lambda x: \"pos\" if sia.polarity_scores(x)[\"compound\"] > 0 else \"neg\")\n",
    "data.head()"
   ]
  },
  {
   "cell_type": "code",
   "execution_count": 22,
   "id": "25596b9f",
   "metadata": {
    "execution": {
     "iopub.execute_input": "2022-05-18T05:58:19.579721Z",
     "iopub.status.busy": "2022-05-18T05:58:19.578942Z",
     "iopub.status.idle": "2022-05-18T05:58:19.582498Z",
     "shell.execute_reply": "2022-05-18T05:58:19.581865Z",
     "shell.execute_reply.started": "2022-05-18T04:59:03.495327Z"
    },
    "papermill": {
     "duration": 0.0918,
     "end_time": "2022-05-18T05:58:19.582634",
     "exception": false,
     "start_time": "2022-05-18T05:58:19.490834",
     "status": "completed"
    },
    "tags": []
   },
   "outputs": [
    {
     "data": {
      "text/plain": [
       "pos    3944\n",
       "neg     971\n",
       "Name: sentiment_label, dtype: int64"
      ]
     },
     "execution_count": 22,
     "metadata": {},
     "output_type": "execute_result"
    }
   ],
   "source": [
    "data[\"sentiment_label\"].value_counts()"
   ]
  },
  {
   "cell_type": "code",
   "execution_count": 23,
   "id": "76cec477",
   "metadata": {
    "execution": {
     "iopub.execute_input": "2022-05-18T05:58:19.745043Z",
     "iopub.status.busy": "2022-05-18T05:58:19.744344Z",
     "iopub.status.idle": "2022-05-18T05:58:19.754000Z",
     "shell.execute_reply": "2022-05-18T05:58:19.754479Z",
     "shell.execute_reply.started": "2022-05-18T04:59:14.060491Z"
    },
    "papermill": {
     "duration": 0.092344,
     "end_time": "2022-05-18T05:58:19.754654",
     "exception": false,
     "start_time": "2022-05-18T05:58:19.662310",
     "status": "completed"
    },
    "tags": []
   },
   "outputs": [
    {
     "data": {
      "text/plain": [
       "sentiment_label\n",
       "neg    4.094748\n",
       "pos    4.708925\n",
       "Name: overall, dtype: float64"
      ]
     },
     "execution_count": 23,
     "metadata": {},
     "output_type": "execute_result"
    }
   ],
   "source": [
    "data.groupby(\"sentiment_label\")[\"overall\"].mean()"
   ]
  },
  {
   "cell_type": "markdown",
   "id": "85c8ef40",
   "metadata": {
    "papermill": {
     "duration": 0.07969,
     "end_time": "2022-05-18T05:58:19.914267",
     "exception": false,
     "start_time": "2022-05-18T05:58:19.834577",
     "status": "completed"
    },
    "tags": []
   },
   "source": [
    "### This is our dependent variable, but not binary encoded yet.String expressions are available. We need to pass it through label encoder"
   ]
  },
  {
   "cell_type": "code",
   "execution_count": 24,
   "id": "cab96cd1",
   "metadata": {
    "execution": {
     "iopub.execute_input": "2022-05-18T05:58:20.082102Z",
     "iopub.status.busy": "2022-05-18T05:58:20.081409Z",
     "iopub.status.idle": "2022-05-18T05:58:20.089064Z",
     "shell.execute_reply": "2022-05-18T05:58:20.089786Z",
     "shell.execute_reply.started": "2022-05-18T04:59:57.705562Z"
    },
    "papermill": {
     "duration": 0.092831,
     "end_time": "2022-05-18T05:58:20.089961",
     "exception": false,
     "start_time": "2022-05-18T05:58:19.997130",
     "status": "completed"
    },
    "tags": []
   },
   "outputs": [
    {
     "name": "stderr",
     "output_type": "stream",
     "text": [
      "/opt/conda/lib/python3.7/site-packages/ipykernel_launcher.py:1: SettingWithCopyWarning: \n",
      "A value is trying to be set on a copy of a slice from a DataFrame.\n",
      "Try using .loc[row_indexer,col_indexer] = value instead\n",
      "\n",
      "See the caveats in the documentation: https://pandas.pydata.org/pandas-docs/stable/user_guide/indexing.html#returning-a-view-versus-a-copy\n",
      "  \"\"\"Entry point for launching an IPython kernel.\n"
     ]
    }
   ],
   "source": [
    "data[\"sentiment_label\"] = LabelEncoder().fit_transform(data[\"sentiment_label\"])\n",
    "\n",
    "X = data[\"reviewText\"]\n",
    "y = data[\"sentiment_label\"]"
   ]
  },
  {
   "cell_type": "markdown",
   "id": "457f1d9a",
   "metadata": {
    "papermill": {
     "duration": 0.080508,
     "end_time": "2022-05-18T05:58:20.251527",
     "exception": false,
     "start_time": "2022-05-18T05:58:20.171019",
     "status": "completed"
    },
    "tags": []
   },
   "source": [
    " ### Let's set this variable as the dependent variable y.\n",
    "### Let's also take the variable review text in the same dataframe and let this be our argument. But there is a problem here, these are texts, they do not have a measurement value at the moment, they need to be brought into a measurable format.  \n",
    "### We can do this in 2 ways, with the count vectorizer or with the tf-idf vectorizer."
   ]
  },
  {
   "cell_type": "markdown",
   "id": "5309bc7d",
   "metadata": {
    "papermill": {
     "duration": 0.081593,
     "end_time": "2022-05-18T05:58:20.414929",
     "exception": false,
     "start_time": "2022-05-18T05:58:20.333336",
     "status": "completed"
    },
    "tags": []
   },
   "source": [
    "<span style = \"color:#1fe309; font-weight:700; font-size:25px;\">Count Vectors</span>"
   ]
  },
  {
   "cell_type": "code",
   "execution_count": 25,
   "id": "a3326620",
   "metadata": {
    "execution": {
     "iopub.execute_input": "2022-05-18T05:58:20.583172Z",
     "iopub.status.busy": "2022-05-18T05:58:20.582450Z",
     "iopub.status.idle": "2022-05-18T05:58:20.744816Z",
     "shell.execute_reply": "2022-05-18T05:58:20.744249Z",
     "shell.execute_reply.started": "2022-05-18T05:15:53.334288Z"
    },
    "papermill": {
     "duration": 0.247395,
     "end_time": "2022-05-18T05:58:20.744987",
     "exception": false,
     "start_time": "2022-05-18T05:58:20.497592",
     "status": "completed"
    },
    "tags": []
   },
   "outputs": [],
   "source": [
    "from sklearn.feature_extraction.text import CountVectorizer\n",
    "\n",
    "vectorizer_c = CountVectorizer()\n",
    "X_c = vectorizer_c.fit_transform(X)\n",
    "\n"
   ]
  },
  {
   "cell_type": "code",
   "execution_count": 26,
   "id": "d41af565",
   "metadata": {
    "execution": {
     "iopub.execute_input": "2022-05-18T05:58:20.911826Z",
     "iopub.status.busy": "2022-05-18T05:58:20.911093Z",
     "iopub.status.idle": "2022-05-18T05:58:20.940037Z",
     "shell.execute_reply": "2022-05-18T05:58:20.940572Z",
     "shell.execute_reply.started": "2022-05-18T05:15:58.742242Z"
    },
    "papermill": {
     "duration": 0.113352,
     "end_time": "2022-05-18T05:58:20.940760",
     "exception": false,
     "start_time": "2022-05-18T05:58:20.827408",
     "status": "completed"
    },
    "tags": []
   },
   "outputs": [
    {
     "data": {
      "text/plain": [
       "array([[0, 0, 0, ..., 0, 0, 0],\n",
       "       [0, 0, 0, ..., 0, 0, 0],\n",
       "       [0, 0, 0, ..., 0, 0, 0],\n",
       "       ...,\n",
       "       [0, 0, 0, ..., 0, 0, 0],\n",
       "       [0, 0, 0, ..., 0, 0, 0],\n",
       "       [0, 0, 0, ..., 0, 0, 0]])"
      ]
     },
     "execution_count": 26,
     "metadata": {},
     "output_type": "execute_result"
    }
   ],
   "source": [
    "X_c.toarray()"
   ]
  },
  {
   "cell_type": "markdown",
   "id": "70fab7c4",
   "metadata": {
    "papermill": {
     "duration": 0.083557,
     "end_time": "2022-05-18T05:58:21.108218",
     "exception": false,
     "start_time": "2022-05-18T05:58:21.024661",
     "status": "completed"
    },
    "tags": []
   },
   "source": [
    "### n-grams are continuous sequences of words or symbols or tokens in a document. In technical terms, they can be defined as the neighbouring sequences of items in a document."
   ]
  },
  {
   "cell_type": "code",
   "execution_count": 27,
   "id": "2ca1b74f",
   "metadata": {
    "execution": {
     "iopub.execute_input": "2022-05-18T05:58:21.285756Z",
     "iopub.status.busy": "2022-05-18T05:58:21.279875Z",
     "iopub.status.idle": "2022-05-18T05:58:21.901225Z",
     "shell.execute_reply": "2022-05-18T05:58:21.900669Z",
     "shell.execute_reply.started": "2022-05-18T05:05:10.494287Z"
    },
    "papermill": {
     "duration": 0.707506,
     "end_time": "2022-05-18T05:58:21.901363",
     "exception": false,
     "start_time": "2022-05-18T05:58:21.193857",
     "status": "completed"
    },
    "tags": []
   },
   "outputs": [
    {
     "data": {
      "text/plain": [
       "array([[0, 0, 0, ..., 0, 0, 0],\n",
       "       [0, 0, 0, ..., 0, 0, 0],\n",
       "       [0, 0, 0, ..., 0, 0, 0],\n",
       "       ...,\n",
       "       [0, 0, 0, ..., 0, 0, 0],\n",
       "       [0, 0, 0, ..., 0, 0, 0],\n",
       "       [0, 0, 0, ..., 0, 0, 0]])"
      ]
     },
     "execution_count": 27,
     "metadata": {},
     "output_type": "execute_result"
    }
   ],
   "source": [
    "vectorizer_n = CountVectorizer(analyzer='word', ngram_range=(2, 2))\n",
    "X_n = vectorizer_n.fit_transform(X)\n",
    "\n",
    "X_n.toarray()"
   ]
  },
  {
   "cell_type": "markdown",
   "id": "4e8ed7bf",
   "metadata": {
    "papermill": {
     "duration": 0.083732,
     "end_time": "2022-05-18T05:58:22.066831",
     "exception": false,
     "start_time": "2022-05-18T05:58:21.983099",
     "status": "completed"
    },
    "tags": []
   },
   "source": [
    "<span style = \"color:#1fe309; font-weight:700; font-size:25px;\">TF-IDF</span>"
   ]
  },
  {
   "cell_type": "markdown",
   "id": "fb4dd725",
   "metadata": {
    "papermill": {
     "duration": 0.083867,
     "end_time": "2022-05-18T05:58:22.233233",
     "exception": false,
     "start_time": "2022-05-18T05:58:22.149366",
     "status": "completed"
    },
    "tags": []
   },
   "source": [
    "### TF-IDF (term frequency-inverse document frequency) is a statistical measure that evaluates how relevant a word is to a document in a collection of documents.\n",
    "\n",
    "### we have already discussed TF before. The IDF is a measurement of how common a word is withinj the corpus. \n",
    "### Please refer to [this link](https://www.capitalone.com/tech/machine-learning/understanding-tf-idf/) to know the mathematics behind the TF-IDF. "
   ]
  },
  {
   "cell_type": "code",
   "execution_count": 28,
   "id": "72bd3281",
   "metadata": {
    "execution": {
     "iopub.execute_input": "2022-05-18T05:58:22.405994Z",
     "iopub.status.busy": "2022-05-18T05:58:22.400516Z",
     "iopub.status.idle": "2022-05-18T05:58:22.725927Z",
     "shell.execute_reply": "2022-05-18T05:58:22.726659Z",
     "shell.execute_reply.started": "2022-05-18T05:09:17.384938Z"
    },
    "papermill": {
     "duration": 0.411039,
     "end_time": "2022-05-18T05:58:22.726894",
     "exception": false,
     "start_time": "2022-05-18T05:58:22.315855",
     "status": "completed"
    },
    "tags": []
   },
   "outputs": [
    {
     "name": "stderr",
     "output_type": "stream",
     "text": [
      "/opt/conda/lib/python3.7/site-packages/sklearn/utils/deprecation.py:87: FutureWarning: Function get_feature_names is deprecated; get_feature_names is deprecated in 1.0 and will be removed in 1.2. Please use get_feature_names_out instead.\n",
      "  warnings.warn(msg, category=FutureWarning)\n"
     ]
    },
    {
     "data": {
      "text/plain": [
       "array([[0., 0., 0., ..., 0., 0., 0.],\n",
       "       [0., 0., 0., ..., 0., 0., 0.],\n",
       "       [0., 0., 0., ..., 0., 0., 0.],\n",
       "       ...,\n",
       "       [0., 0., 0., ..., 0., 0., 0.],\n",
       "       [0., 0., 0., ..., 0., 0., 0.],\n",
       "       [0., 0., 0., ..., 0., 0., 0.]])"
      ]
     },
     "execution_count": 28,
     "metadata": {},
     "output_type": "execute_result"
    }
   ],
   "source": [
    "# word tf-idf\n",
    "from sklearn.feature_extraction.text import TfidfVectorizer\n",
    "tf_idf_word_vectorizer = TfidfVectorizer()\n",
    "X_tf_idf_word = tf_idf_word_vectorizer.fit_transform(X)\n",
    "tf_idf_word_vectorizer.get_feature_names()\n",
    "X_tf_idf_word.toarray()"
   ]
  },
  {
   "cell_type": "code",
   "execution_count": 29,
   "id": "a2232cf7",
   "metadata": {
    "execution": {
     "iopub.execute_input": "2022-05-18T05:58:22.903587Z",
     "iopub.status.busy": "2022-05-18T05:58:22.902306Z",
     "iopub.status.idle": "2022-05-18T05:58:24.344493Z",
     "shell.execute_reply": "2022-05-18T05:58:24.343932Z",
     "shell.execute_reply.started": "2022-05-18T05:24:23.792899Z"
    },
    "papermill": {
     "duration": 1.535191,
     "end_time": "2022-05-18T05:58:24.344645",
     "exception": false,
     "start_time": "2022-05-18T05:58:22.809454",
     "status": "completed"
    },
    "tags": []
   },
   "outputs": [
    {
     "data": {
      "text/plain": [
       "array([[0., 0., 0., ..., 0., 0., 0.],\n",
       "       [0., 0., 0., ..., 0., 0., 0.],\n",
       "       [0., 0., 0., ..., 0., 0., 0.],\n",
       "       ...,\n",
       "       [0., 0., 0., ..., 0., 0., 0.],\n",
       "       [0., 0., 0., ..., 0., 0., 0.],\n",
       "       [0., 0., 0., ..., 0., 0., 0.]])"
      ]
     },
     "execution_count": 29,
     "metadata": {},
     "output_type": "execute_result"
    }
   ],
   "source": [
    "# n-gram tf-idf\n",
    "from sklearn.feature_extraction.text import TfidfVectorizer\n",
    "tf_idf_ngram_vectorizer = TfidfVectorizer(ngram_range=(2, 3))\n",
    "X_tf_idf_ngram = tf_idf_ngram_vectorizer.fit_transform(X)\n",
    "#tf_idf_ngram_vectorizer.get_feature_names()\n",
    "X_tf_idf_ngram.toarray()"
   ]
  },
  {
   "cell_type": "markdown",
   "id": "315bb430",
   "metadata": {
    "papermill": {
     "duration": 0.081757,
     "end_time": "2022-05-18T05:58:24.510231",
     "exception": false,
     "start_time": "2022-05-18T05:58:24.428474",
     "status": "completed"
    },
    "tags": []
   },
   "source": [
    "# <span style=\"color:#0c5204; font-weight:700; font-size:30px\">Modeling with Support Vector machine</span>"
   ]
  },
  {
   "cell_type": "markdown",
   "id": "7ea3f010",
   "metadata": {
    "papermill": {
     "duration": 0.108152,
     "end_time": "2022-05-18T05:58:24.700803",
     "exception": false,
     "start_time": "2022-05-18T05:58:24.592651",
     "status": "completed"
    },
    "tags": []
   },
   "source": [
    "### After creating the word vectors, we can now apply machine learning methods."
   ]
  },
  {
   "cell_type": "code",
   "execution_count": 30,
   "id": "f99d69d4",
   "metadata": {
    "execution": {
     "iopub.execute_input": "2022-05-18T05:58:24.875760Z",
     "iopub.status.busy": "2022-05-18T05:58:24.874920Z",
     "iopub.status.idle": "2022-05-18T05:58:34.910436Z",
     "shell.execute_reply": "2022-05-18T05:58:34.910929Z",
     "shell.execute_reply.started": "2022-05-18T05:20:48.102994Z"
    },
    "papermill": {
     "duration": 10.124876,
     "end_time": "2022-05-18T05:58:34.911155",
     "exception": false,
     "start_time": "2022-05-18T05:58:24.786279",
     "status": "completed"
    },
    "tags": []
   },
   "outputs": [
    {
     "data": {
      "text/plain": [
       "0.8524923702950152"
      ]
     },
     "execution_count": 30,
     "metadata": {},
     "output_type": "execute_result"
    }
   ],
   "source": [
    "# Count Vectors\n",
    "from sklearn import svm\n",
    "clf = svm.SVC(kernel='linear').fit(X_c, y)\n",
    "cross_val_score(clf, X_c, y, cv=5, n_jobs=-1).mean()"
   ]
  },
  {
   "cell_type": "code",
   "execution_count": 31,
   "id": "83c0a665",
   "metadata": {
    "execution": {
     "iopub.execute_input": "2022-05-18T05:58:35.095211Z",
     "iopub.status.busy": "2022-05-18T05:58:35.094495Z",
     "iopub.status.idle": "2022-05-18T05:58:43.541244Z",
     "shell.execute_reply": "2022-05-18T05:58:43.540514Z",
     "shell.execute_reply.started": "2022-05-18T05:21:51.704246Z"
    },
    "papermill": {
     "duration": 8.53853,
     "end_time": "2022-05-18T05:58:43.541398",
     "exception": false,
     "start_time": "2022-05-18T05:58:35.002868",
     "status": "completed"
    },
    "tags": []
   },
   "outputs": [
    {
     "data": {
      "text/plain": [
       "0.8514750762970499"
      ]
     },
     "execution_count": 31,
     "metadata": {},
     "output_type": "execute_result"
    }
   ],
   "source": [
    "# TF-IDF Word-Level\n",
    "clf = svm.SVC(kernel='linear').fit(X_tf_idf_word, y)\n",
    "cross_val_score(clf, X_tf_idf_word, y, cv=5, n_jobs=-1).mean()"
   ]
  },
  {
   "cell_type": "code",
   "execution_count": 32,
   "id": "37df08f2",
   "metadata": {
    "execution": {
     "iopub.execute_input": "2022-05-18T05:58:43.720711Z",
     "iopub.status.busy": "2022-05-18T05:58:43.719683Z",
     "iopub.status.idle": "2022-05-18T05:59:07.477786Z",
     "shell.execute_reply": "2022-05-18T05:59:07.477265Z",
     "shell.execute_reply.started": "2022-05-18T05:24:32.943084Z"
    },
    "papermill": {
     "duration": 23.849336,
     "end_time": "2022-05-18T05:59:07.477942",
     "exception": false,
     "start_time": "2022-05-18T05:58:43.628606",
     "status": "completed"
    },
    "tags": []
   },
   "outputs": [
    {
     "data": {
      "text/plain": [
       "0.8026449643947101"
      ]
     },
     "execution_count": 32,
     "metadata": {},
     "output_type": "execute_result"
    }
   ],
   "source": [
    "# TF-IDF N-GRAM\n",
    "clf = svm.SVC(kernel='linear').fit(X_tf_idf_ngram, y)\n",
    "cross_val_score(clf, X_tf_idf_ngram, y, cv=5, n_jobs=-1).mean()"
   ]
  },
  {
   "cell_type": "markdown",
   "id": "dcca4940",
   "metadata": {
    "papermill": {
     "duration": 0.086825,
     "end_time": "2022-05-18T05:59:07.656290",
     "exception": false,
     "start_time": "2022-05-18T05:59:07.569465",
     "status": "completed"
    },
    "tags": []
   },
   "source": [
    "### The countvectorizer feature extractor was performing best, we will use that for further modelling"
   ]
  },
  {
   "cell_type": "markdown",
   "id": "44eb9d22",
   "metadata": {
    "papermill": {
     "duration": 0.088282,
     "end_time": "2022-05-18T05:59:07.832613",
     "exception": false,
     "start_time": "2022-05-18T05:59:07.744331",
     "status": "completed"
    },
    "tags": []
   },
   "source": [
    "# <span style=\"color:#0c5204; font-weight:700; font-size:30px;\">Hyperparameter Optimization</span>"
   ]
  },
  {
   "cell_type": "code",
   "execution_count": 33,
   "id": "771bcf58",
   "metadata": {
    "execution": {
     "iopub.execute_input": "2022-05-18T05:59:08.016038Z",
     "iopub.status.busy": "2022-05-18T05:59:08.015300Z",
     "iopub.status.idle": "2022-05-18T06:03:27.774169Z",
     "shell.execute_reply": "2022-05-18T06:03:27.774710Z",
     "shell.execute_reply.started": "2022-05-18T05:36:52.315598Z"
    },
    "papermill": {
     "duration": 259.85257,
     "end_time": "2022-05-18T06:03:27.774902",
     "exception": false,
     "start_time": "2022-05-18T05:59:07.922332",
     "status": "completed"
    },
    "tags": []
   },
   "outputs": [
    {
     "name": "stdout",
     "output_type": "stream",
     "text": [
      "Fitting 5 folds for each of 50 candidates, totalling 250 fits\n"
     ]
    },
    {
     "data": {
      "text/plain": [
       "{'C': 10, 'gamma': 0.01, 'kernel': 'rbf'}"
      ]
     },
     "execution_count": 33,
     "metadata": {},
     "output_type": "execute_result"
    }
   ],
   "source": [
    "\n",
    "model = svm.SVC(random_state = 0)\n",
    "\n",
    "param_grid = {'C': [0.1, 1, 10, 100, 1000], \n",
    "             'gamma':[1, 0.1, 0.01, 0.001, 0.0001], \n",
    "             'kernel':['rbf', 'linear']}\n",
    "\n",
    "grid = GridSearchCV(model,\n",
    "                    param_grid,\n",
    "                    cv=5,\n",
    "                    n_jobs=-1,\n",
    "                    verbose=True).fit(X_c, y)\n",
    "\n",
    "grid.best_params_"
   ]
  },
  {
   "cell_type": "code",
   "execution_count": 34,
   "id": "3425f953",
   "metadata": {
    "execution": {
     "iopub.execute_input": "2022-05-18T06:03:27.970911Z",
     "iopub.status.busy": "2022-05-18T06:03:27.970100Z",
     "iopub.status.idle": "2022-05-18T06:03:38.904822Z",
     "shell.execute_reply": "2022-05-18T06:03:38.904246Z",
     "shell.execute_reply.started": "2022-05-18T05:41:48.392171Z"
    },
    "papermill": {
     "duration": 11.039446,
     "end_time": "2022-05-18T06:03:38.905008",
     "exception": false,
     "start_time": "2022-05-18T06:03:27.865562",
     "status": "completed"
    },
    "tags": []
   },
   "outputs": [],
   "source": [
    "SVC_final = model.set_params(**grid.best_params_, random_state=0).fit(X_c, y)\n",
    "\n",
    "cv_results = cross_validate(SVC_final, X_c, y, cv=3, scoring=[\"accuracy\", \"f1\", \"roc_auc\"])"
   ]
  },
  {
   "cell_type": "code",
   "execution_count": 35,
   "id": "613daf3d",
   "metadata": {
    "execution": {
     "iopub.execute_input": "2022-05-18T06:03:39.086499Z",
     "iopub.status.busy": "2022-05-18T06:03:39.085559Z",
     "iopub.status.idle": "2022-05-18T06:03:39.089239Z",
     "shell.execute_reply": "2022-05-18T06:03:39.089694Z",
     "shell.execute_reply.started": "2022-05-18T05:42:21.977867Z"
    },
    "papermill": {
     "duration": 0.097969,
     "end_time": "2022-05-18T06:03:39.089886",
     "exception": false,
     "start_time": "2022-05-18T06:03:38.991917",
     "status": "completed"
    },
    "tags": []
   },
   "outputs": [
    {
     "data": {
      "text/plain": [
       "0.8622586709835032"
      ]
     },
     "execution_count": 35,
     "metadata": {},
     "output_type": "execute_result"
    }
   ],
   "source": [
    "cv_results['test_accuracy'].mean()"
   ]
  },
  {
   "cell_type": "markdown",
   "id": "03b1e3cb",
   "metadata": {
    "papermill": {
     "duration": 0.085977,
     "end_time": "2022-05-18T06:03:39.263320",
     "exception": false,
     "start_time": "2022-05-18T06:03:39.177343",
     "status": "completed"
    },
    "tags": []
   },
   "source": [
    "### Our aim was to classify these comments. When a comment is received using a machine learning method, we are 86% successful in predicting whether it is positive or negative. In other words, 86 of our 100 predictions were successful."
   ]
  },
  {
   "cell_type": "code",
   "execution_count": 36,
   "id": "a6d53364",
   "metadata": {
    "execution": {
     "iopub.execute_input": "2022-05-18T06:03:39.440703Z",
     "iopub.status.busy": "2022-05-18T06:03:39.439656Z",
     "iopub.status.idle": "2022-05-18T06:03:39.445835Z",
     "shell.execute_reply": "2022-05-18T06:03:39.446422Z",
     "shell.execute_reply.started": "2022-05-18T05:42:39.332807Z"
    },
    "papermill": {
     "duration": 0.096145,
     "end_time": "2022-05-18T06:03:39.446598",
     "exception": false,
     "start_time": "2022-05-18T06:03:39.350453",
     "status": "completed"
    },
    "tags": []
   },
   "outputs": [
    {
     "data": {
      "text/plain": [
       "0.9162445305602701"
      ]
     },
     "execution_count": 36,
     "metadata": {},
     "output_type": "execute_result"
    }
   ],
   "source": [
    "cv_results['test_f1'].mean()"
   ]
  },
  {
   "cell_type": "code",
   "execution_count": 37,
   "id": "bfca23ee",
   "metadata": {
    "execution": {
     "iopub.execute_input": "2022-05-18T06:03:39.625005Z",
     "iopub.status.busy": "2022-05-18T06:03:39.623914Z",
     "iopub.status.idle": "2022-05-18T06:03:39.630279Z",
     "shell.execute_reply": "2022-05-18T06:03:39.630890Z",
     "shell.execute_reply.started": "2022-05-18T05:42:48.873340Z"
    },
    "papermill": {
     "duration": 0.096347,
     "end_time": "2022-05-18T06:03:39.631086",
     "exception": false,
     "start_time": "2022-05-18T06:03:39.534739",
     "status": "completed"
    },
    "tags": []
   },
   "outputs": [
    {
     "data": {
      "text/plain": [
       "0.8960352608518466"
      ]
     },
     "execution_count": 37,
     "metadata": {},
     "output_type": "execute_result"
    }
   ],
   "source": [
    "cv_results['test_roc_auc'].mean()"
   ]
  },
  {
   "cell_type": "markdown",
   "id": "0d62ef30",
   "metadata": {
    "papermill": {
     "duration": 0.087977,
     "end_time": "2022-05-18T06:03:39.805581",
     "exception": false,
     "start_time": "2022-05-18T06:03:39.717604",
     "status": "completed"
    },
    "tags": []
   },
   "source": [
    "#### This notebook is inspired from an [existing notebook](https://www.kaggle.com/code/eminecerit/sentiment-analysis-and-modeling-for-amazon-reviews) of another user <span style = \"color:#c81efc; font-size:22px;\"> Emine Cerit</span>.   please check out her [page](https://www.kaggle.com/eminecerit)."
   ]
  },
  {
   "cell_type": "markdown",
   "id": "d62e3681",
   "metadata": {
    "papermill": {
     "duration": 0.086766,
     "end_time": "2022-05-18T06:03:39.983819",
     "exception": false,
     "start_time": "2022-05-18T06:03:39.897053",
     "status": "completed"
    },
    "tags": []
   },
   "source": [
    "### Thank you"
   ]
  }
 ],
 "metadata": {
  "kernelspec": {
   "display_name": "Python 3",
   "language": "python",
   "name": "python3"
  },
  "language_info": {
   "codemirror_mode": {
    "name": "ipython",
    "version": 3
   },
   "file_extension": ".py",
   "mimetype": "text/x-python",
   "name": "python",
   "nbconvert_exporter": "python",
   "pygments_lexer": "ipython3",
   "version": "3.7.12"
  },
  "papermill": {
   "default_parameters": {},
   "duration": 371.224168,
   "end_time": "2022-05-18T06:03:41.488297",
   "environment_variables": {},
   "exception": null,
   "input_path": "__notebook__.ipynb",
   "output_path": "__notebook__.ipynb",
   "parameters": {},
   "start_time": "2022-05-18T05:57:30.264129",
   "version": "2.3.3"
  }
 },
 "nbformat": 4,
 "nbformat_minor": 5
}
